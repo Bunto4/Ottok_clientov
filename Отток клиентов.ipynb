{
 "cells": [
  {
   "cell_type": "markdown",
   "metadata": {
    "toc": true
   },
   "source": [
    "<h1>Содержание<span class=\"tocSkip\"></span></h1>\n",
    "<div class=\"toc\"><ul class=\"toc-item\"><li><span><a href=\"#Подготовка-данных\" data-toc-modified-id=\"Подготовка-данных-1\"><span class=\"toc-item-num\">1&nbsp;&nbsp;</span>Подготовка данных</a></span></li><li><span><a href=\"#Исследование-задачи\" data-toc-modified-id=\"Исследование-задачи-2\"><span class=\"toc-item-num\">2&nbsp;&nbsp;</span>Исследование задачи</a></span></li><li><span><a href=\"#Борьба-с-дисбалансом\" data-toc-modified-id=\"Борьба-с-дисбалансом-3\"><span class=\"toc-item-num\">3&nbsp;&nbsp;</span>Борьба с дисбалансом</a></span></li><li><span><a href=\"#Тестирование-модели\" data-toc-modified-id=\"Тестирование-модели-4\"><span class=\"toc-item-num\">4&nbsp;&nbsp;</span>Тестирование модели</a></span></li><li><span><a href=\"#Вывод\" data-toc-modified-id=\"Вывод-5\"><span class=\"toc-item-num\">5&nbsp;&nbsp;</span>Вывод</a></span></li><li><span><a href=\"#Чек-лист-готовности-проекта\" data-toc-modified-id=\"Чек-лист-готовности-проекта-6\"><span class=\"toc-item-num\">6&nbsp;&nbsp;</span>Чек-лист готовности проекта</a></span></li></ul></div>"
   ]
  },
  {
   "cell_type": "markdown",
   "metadata": {},
   "source": [
    "# Отток клиентов"
   ]
  },
  {
   "cell_type": "markdown",
   "metadata": {},
   "source": [
    "Из «Бета-Банка» стали уходить клиенты. Каждый месяц. Немного, но заметно. Банковские маркетологи посчитали: сохранять текущих клиентов дешевле, чем привлекать новых.\n",
    "\n",
    "Нужно спрогнозировать, уйдёт клиент из банка в ближайшее время или нет. Вам предоставлены исторические данные о поведении клиентов и расторжении договоров с банком. \n",
    "\n",
    "Постройте модель с предельно большим значением *F1*-меры. Чтобы сдать проект успешно, нужно довести метрику до 0.59. Проверьте *F1*-меру на тестовой выборке самостоятельно.\n",
    "\n",
    "Дополнительно измеряйте *AUC-ROC*, сравнивайте её значение с *F1*-мерой.\n",
    "\n",
    "Источник данных: [https://www.kaggle.com/barelydedicated/bank-customer-churn-modeling](https://www.kaggle.com/barelydedicated/bank-customer-churn-modeling)"
   ]
  },
  {
   "cell_type": "markdown",
   "metadata": {},
   "source": [
    "## Подготовка данных"
   ]
  },
  {
   "cell_type": "code",
   "execution_count": 118,
   "metadata": {},
   "outputs": [],
   "source": [
    "import pandas as pd\n",
    "import numpy as np\n",
    "import seaborn as sns\n",
    "from matplotlib import pyplot as plt\n",
    "\n",
    "from sklearn.preprocessing import LabelEncoder\n",
    "from sklearn.preprocessing import OrdinalEncoder\n",
    "from sklearn.preprocessing import StandardScaler\n",
    "\n",
    "from sklearn.model_selection import train_test_split\n",
    "\n",
    "from sklearn.linear_model import LogisticRegression\n",
    "from sklearn.ensemble import RandomForestClassifier\n",
    "from sklearn.tree import DecisionTreeClassifier\n",
    "from sklearn.pipeline import make_pipeline\n",
    "\n",
    "from sklearn.metrics import accuracy_score  \n",
    "from sklearn.metrics import f1_score\n",
    "from sklearn.metrics import roc_auc_score\n",
    "from sklearn.metrics import roc_curve, auc\n",
    "from sklearn.metrics import recall_score\n",
    "from sklearn.metrics import precision_score\n",
    "\n",
    "from sklearn.utils import shuffle\n",
    "\n"
   ]
  },
  {
   "cell_type": "code",
   "execution_count": 2,
   "metadata": {},
   "outputs": [
    {
     "data": {
      "text/plain": [
       "20"
      ]
     },
     "execution_count": 2,
     "metadata": {},
     "output_type": "execute_result"
    }
   ],
   "source": [
    "pd.options.display.max_columns"
   ]
  },
  {
   "cell_type": "code",
   "execution_count": 3,
   "metadata": {},
   "outputs": [],
   "source": [
    "pd.options.display.max_columns = 25"
   ]
  },
  {
   "cell_type": "code",
   "execution_count": 4,
   "metadata": {},
   "outputs": [],
   "source": [
    "data = pd.read_csv('Churn.csv')"
   ]
  },
  {
   "cell_type": "code",
   "execution_count": 5,
   "metadata": {
    "scrolled": true
   },
   "outputs": [
    {
     "name": "stdout",
     "output_type": "stream",
     "text": [
      "   RowNumber  CustomerId   Surname  CreditScore Geography  Gender  Age  \\\n",
      "0          1    15634602  Hargrave          619    France  Female   42   \n",
      "1          2    15647311      Hill          608     Spain  Female   41   \n",
      "2          3    15619304      Onio          502    France  Female   42   \n",
      "3          4    15701354      Boni          699    France  Female   39   \n",
      "4          5    15737888  Mitchell          850     Spain  Female   43   \n",
      "\n",
      "   Tenure    Balance  NumOfProducts  HasCrCard  IsActiveMember  \\\n",
      "0     2.0       0.00              1          1               1   \n",
      "1     1.0   83807.86              1          0               1   \n",
      "2     8.0  159660.80              3          1               0   \n",
      "3     1.0       0.00              2          0               0   \n",
      "4     2.0  125510.82              1          1               1   \n",
      "\n",
      "   EstimatedSalary  Exited  \n",
      "0        101348.88       1  \n",
      "1        112542.58       0  \n",
      "2        113931.57       1  \n",
      "3         93826.63       0  \n",
      "4         79084.10       0  \n"
     ]
    }
   ],
   "source": [
    "print(data.head())"
   ]
  },
  {
   "cell_type": "code",
   "execution_count": 6,
   "metadata": {},
   "outputs": [
    {
     "name": "stdout",
     "output_type": "stream",
     "text": [
      "<class 'pandas.core.frame.DataFrame'>\n",
      "RangeIndex: 10000 entries, 0 to 9999\n",
      "Data columns (total 14 columns):\n",
      " #   Column           Non-Null Count  Dtype  \n",
      "---  ------           --------------  -----  \n",
      " 0   RowNumber        10000 non-null  int64  \n",
      " 1   CustomerId       10000 non-null  int64  \n",
      " 2   Surname          10000 non-null  object \n",
      " 3   CreditScore      10000 non-null  int64  \n",
      " 4   Geography        10000 non-null  object \n",
      " 5   Gender           10000 non-null  object \n",
      " 6   Age              10000 non-null  int64  \n",
      " 7   Tenure           9091 non-null   float64\n",
      " 8   Balance          10000 non-null  float64\n",
      " 9   NumOfProducts    10000 non-null  int64  \n",
      " 10  HasCrCard        10000 non-null  int64  \n",
      " 11  IsActiveMember   10000 non-null  int64  \n",
      " 12  EstimatedSalary  10000 non-null  float64\n",
      " 13  Exited           10000 non-null  int64  \n",
      "dtypes: float64(3), int64(8), object(3)\n",
      "memory usage: 1.1+ MB\n"
     ]
    }
   ],
   "source": [
    "data.info()"
   ]
  },
  {
   "cell_type": "markdown",
   "metadata": {},
   "source": [
    "Замечены пропуски в столбце `'Tenure'`."
   ]
  },
  {
   "cell_type": "code",
   "execution_count": 7,
   "metadata": {},
   "outputs": [],
   "source": [
    "data_copy = data.copy()"
   ]
  },
  {
   "cell_type": "code",
   "execution_count": 8,
   "metadata": {},
   "outputs": [],
   "source": [
    "data_copy = data_copy.fillna(0)"
   ]
  },
  {
   "cell_type": "code",
   "execution_count": 9,
   "metadata": {},
   "outputs": [
    {
     "data": {
      "text/plain": [
       "<AxesSubplot:>"
      ]
     },
     "execution_count": 9,
     "metadata": {},
     "output_type": "execute_result"
    },
    {
     "data": {
      "image/png": "[encoded data removed]",
      "text/plain": [
       "<Figure size 432x288 with 1 Axes>"
      ]
     },
     "metadata": {
      "needs_background": "light"
     },
     "output_type": "display_data"
    }
   ],
   "source": [
    "data.Tenure.hist()"
   ]
  },
  {
   "cell_type": "code",
   "execution_count": 10,
   "metadata": {},
   "outputs": [
    {
     "data": {
      "text/plain": [
       "<AxesSubplot:>"
      ]
     },
     "execution_count": 10,
     "metadata": {},
     "output_type": "execute_result"
    },
    {
     "data": {
      "image/png": "[encoded data removed]",
      "text/plain": [
       "<Figure size 432x288 with 1 Axes>"
      ]
     },
     "metadata": {
      "needs_background": "light"
     },
     "output_type": "display_data"
    }
   ],
   "source": [
    "data_copy.Tenure.hist()"
   ]
  },
  {
   "cell_type": "markdown",
   "metadata": {},
   "source": [
    "Распределение изменилось, если заменить пропуски нулями. Такой подход не подойдет."
   ]
  },
  {
   "cell_type": "code",
   "execution_count": 11,
   "metadata": {},
   "outputs": [],
   "source": [
    "data_copy = data.copy()"
   ]
  },
  {
   "cell_type": "code",
   "execution_count": 12,
   "metadata": {},
   "outputs": [],
   "source": [
    "data_copy = data_copy.fillna(data_copy['Tenure'].median())"
   ]
  },
  {
   "cell_type": "code",
   "execution_count": 13,
   "metadata": {},
   "outputs": [
    {
     "data": {
      "text/plain": [
       "<AxesSubplot:>"
      ]
     },
     "execution_count": 13,
     "metadata": {},
     "output_type": "execute_result"
    },
    {
     "data": {
      "image/png": "[encoded data removed]",
      "text/plain": [
       "<Figure size 432x288 with 1 Axes>"
      ]
     },
     "metadata": {
      "needs_background": "light"
     },
     "output_type": "display_data"
    }
   ],
   "source": [
    "data_copy.Tenure.hist()"
   ]
  },
  {
   "cell_type": "markdown",
   "metadata": {},
   "source": [
    "Распределение опять изменилось. Попробуем группировкой."
   ]
  },
  {
   "cell_type": "code",
   "execution_count": 14,
   "metadata": {},
   "outputs": [
    {
     "data": {
      "text/html": [
       "<div>\n",
       "<style scoped>\n",
       "    .dataframe tbody tr th:only-of-type {\n",
       "        vertical-align: middle;\n",
       "    }\n",
       "\n",
       "    .dataframe tbody tr th {\n",
       "        vertical-align: top;\n",
       "    }\n",
       "\n",
       "    .dataframe thead th {\n",
       "        text-align: right;\n",
       "    }\n",
       "</style>\n",
       "<table border=\"1\" class=\"dataframe\">\n",
       "  <thead>\n",
       "    <tr style=\"text-align: right;\">\n",
       "      <th></th>\n",
       "      <th>RowNumber</th>\n",
       "      <th>CustomerId</th>\n",
       "      <th>Surname</th>\n",
       "      <th>CreditScore</th>\n",
       "      <th>Geography</th>\n",
       "      <th>Gender</th>\n",
       "      <th>Age</th>\n",
       "      <th>Tenure</th>\n",
       "      <th>Balance</th>\n",
       "      <th>NumOfProducts</th>\n",
       "      <th>HasCrCard</th>\n",
       "      <th>IsActiveMember</th>\n",
       "      <th>EstimatedSalary</th>\n",
       "      <th>Exited</th>\n",
       "      <th>Tenure_gb</th>\n",
       "    </tr>\n",
       "  </thead>\n",
       "  <tbody>\n",
       "    <tr>\n",
       "      <th>0</th>\n",
       "      <td>1</td>\n",
       "      <td>15634602</td>\n",
       "      <td>Hargrave</td>\n",
       "      <td>619</td>\n",
       "      <td>France</td>\n",
       "      <td>Female</td>\n",
       "      <td>42</td>\n",
       "      <td>2.0</td>\n",
       "      <td>0.00</td>\n",
       "      <td>1</td>\n",
       "      <td>1</td>\n",
       "      <td>1</td>\n",
       "      <td>101348.88</td>\n",
       "      <td>1</td>\n",
       "      <td>5.5</td>\n",
       "    </tr>\n",
       "    <tr>\n",
       "      <th>1</th>\n",
       "      <td>2</td>\n",
       "      <td>15647311</td>\n",
       "      <td>Hill</td>\n",
       "      <td>608</td>\n",
       "      <td>Spain</td>\n",
       "      <td>Female</td>\n",
       "      <td>41</td>\n",
       "      <td>1.0</td>\n",
       "      <td>83807.86</td>\n",
       "      <td>1</td>\n",
       "      <td>0</td>\n",
       "      <td>1</td>\n",
       "      <td>112542.58</td>\n",
       "      <td>0</td>\n",
       "      <td>4.5</td>\n",
       "    </tr>\n",
       "    <tr>\n",
       "      <th>2</th>\n",
       "      <td>3</td>\n",
       "      <td>15619304</td>\n",
       "      <td>Onio</td>\n",
       "      <td>502</td>\n",
       "      <td>France</td>\n",
       "      <td>Female</td>\n",
       "      <td>42</td>\n",
       "      <td>8.0</td>\n",
       "      <td>159660.80</td>\n",
       "      <td>3</td>\n",
       "      <td>1</td>\n",
       "      <td>0</td>\n",
       "      <td>113931.57</td>\n",
       "      <td>1</td>\n",
       "      <td>8.0</td>\n",
       "    </tr>\n",
       "    <tr>\n",
       "      <th>3</th>\n",
       "      <td>4</td>\n",
       "      <td>15701354</td>\n",
       "      <td>Boni</td>\n",
       "      <td>699</td>\n",
       "      <td>France</td>\n",
       "      <td>Female</td>\n",
       "      <td>39</td>\n",
       "      <td>1.0</td>\n",
       "      <td>0.00</td>\n",
       "      <td>2</td>\n",
       "      <td>0</td>\n",
       "      <td>0</td>\n",
       "      <td>93826.63</td>\n",
       "      <td>0</td>\n",
       "      <td>5.5</td>\n",
       "    </tr>\n",
       "    <tr>\n",
       "      <th>4</th>\n",
       "      <td>5</td>\n",
       "      <td>15737888</td>\n",
       "      <td>Mitchell</td>\n",
       "      <td>850</td>\n",
       "      <td>Spain</td>\n",
       "      <td>Female</td>\n",
       "      <td>43</td>\n",
       "      <td>2.0</td>\n",
       "      <td>125510.82</td>\n",
       "      <td>1</td>\n",
       "      <td>1</td>\n",
       "      <td>1</td>\n",
       "      <td>79084.10</td>\n",
       "      <td>0</td>\n",
       "      <td>4.5</td>\n",
       "    </tr>\n",
       "    <tr>\n",
       "      <th>...</th>\n",
       "      <td>...</td>\n",
       "      <td>...</td>\n",
       "      <td>...</td>\n",
       "      <td>...</td>\n",
       "      <td>...</td>\n",
       "      <td>...</td>\n",
       "      <td>...</td>\n",
       "      <td>...</td>\n",
       "      <td>...</td>\n",
       "      <td>...</td>\n",
       "      <td>...</td>\n",
       "      <td>...</td>\n",
       "      <td>...</td>\n",
       "      <td>...</td>\n",
       "      <td>...</td>\n",
       "    </tr>\n",
       "    <tr>\n",
       "      <th>9995</th>\n",
       "      <td>9996</td>\n",
       "      <td>15606229</td>\n",
       "      <td>Obijiaku</td>\n",
       "      <td>771</td>\n",
       "      <td>France</td>\n",
       "      <td>Male</td>\n",
       "      <td>39</td>\n",
       "      <td>5.0</td>\n",
       "      <td>0.00</td>\n",
       "      <td>2</td>\n",
       "      <td>1</td>\n",
       "      <td>0</td>\n",
       "      <td>96270.64</td>\n",
       "      <td>0</td>\n",
       "      <td>5.0</td>\n",
       "    </tr>\n",
       "    <tr>\n",
       "      <th>9996</th>\n",
       "      <td>9997</td>\n",
       "      <td>15569892</td>\n",
       "      <td>Johnstone</td>\n",
       "      <td>516</td>\n",
       "      <td>France</td>\n",
       "      <td>Male</td>\n",
       "      <td>35</td>\n",
       "      <td>10.0</td>\n",
       "      <td>57369.61</td>\n",
       "      <td>1</td>\n",
       "      <td>1</td>\n",
       "      <td>1</td>\n",
       "      <td>101699.77</td>\n",
       "      <td>0</td>\n",
       "      <td>8.5</td>\n",
       "    </tr>\n",
       "    <tr>\n",
       "      <th>9997</th>\n",
       "      <td>9998</td>\n",
       "      <td>15584532</td>\n",
       "      <td>Liu</td>\n",
       "      <td>709</td>\n",
       "      <td>France</td>\n",
       "      <td>Female</td>\n",
       "      <td>36</td>\n",
       "      <td>7.0</td>\n",
       "      <td>0.00</td>\n",
       "      <td>1</td>\n",
       "      <td>0</td>\n",
       "      <td>1</td>\n",
       "      <td>42085.58</td>\n",
       "      <td>1</td>\n",
       "      <td>6.0</td>\n",
       "    </tr>\n",
       "    <tr>\n",
       "      <th>9998</th>\n",
       "      <td>9999</td>\n",
       "      <td>15682355</td>\n",
       "      <td>Sabbatini</td>\n",
       "      <td>772</td>\n",
       "      <td>Germany</td>\n",
       "      <td>Male</td>\n",
       "      <td>42</td>\n",
       "      <td>3.0</td>\n",
       "      <td>75075.31</td>\n",
       "      <td>2</td>\n",
       "      <td>1</td>\n",
       "      <td>0</td>\n",
       "      <td>92888.52</td>\n",
       "      <td>1</td>\n",
       "      <td>5.0</td>\n",
       "    </tr>\n",
       "    <tr>\n",
       "      <th>9999</th>\n",
       "      <td>10000</td>\n",
       "      <td>15628319</td>\n",
       "      <td>Walker</td>\n",
       "      <td>792</td>\n",
       "      <td>France</td>\n",
       "      <td>Female</td>\n",
       "      <td>28</td>\n",
       "      <td>NaN</td>\n",
       "      <td>130142.79</td>\n",
       "      <td>1</td>\n",
       "      <td>1</td>\n",
       "      <td>0</td>\n",
       "      <td>38190.78</td>\n",
       "      <td>0</td>\n",
       "      <td>4.0</td>\n",
       "    </tr>\n",
       "  </tbody>\n",
       "</table>\n",
       "<p>10000 rows × 15 columns</p>\n",
       "</div>"
      ],
      "text/plain": [
       "      RowNumber  CustomerId    Surname  CreditScore Geography  Gender  Age  \\\n",
       "0             1    15634602   Hargrave          619    France  Female   42   \n",
       "1             2    15647311       Hill          608     Spain  Female   41   \n",
       "2             3    15619304       Onio          502    France  Female   42   \n",
       "3             4    15701354       Boni          699    France  Female   39   \n",
       "4             5    15737888   Mitchell          850     Spain  Female   43   \n",
       "...         ...         ...        ...          ...       ...     ...  ...   \n",
       "9995       9996    15606229   Obijiaku          771    France    Male   39   \n",
       "9996       9997    15569892  Johnstone          516    France    Male   35   \n",
       "9997       9998    15584532        Liu          709    France  Female   36   \n",
       "9998       9999    15682355  Sabbatini          772   Germany    Male   42   \n",
       "9999      10000    15628319     Walker          792    France  Female   28   \n",
       "\n",
       "      Tenure    Balance  NumOfProducts  HasCrCard  IsActiveMember  \\\n",
       "0        2.0       0.00              1          1               1   \n",
       "1        1.0   83807.86              1          0               1   \n",
       "2        8.0  159660.80              3          1               0   \n",
       "3        1.0       0.00              2          0               0   \n",
       "4        2.0  125510.82              1          1               1   \n",
       "...      ...        ...            ...        ...             ...   \n",
       "9995     5.0       0.00              2          1               0   \n",
       "9996    10.0   57369.61              1          1               1   \n",
       "9997     7.0       0.00              1          0               1   \n",
       "9998     3.0   75075.31              2          1               0   \n",
       "9999     NaN  130142.79              1          1               0   \n",
       "\n",
       "      EstimatedSalary  Exited  Tenure_gb  \n",
       "0           101348.88       1        5.5  \n",
       "1           112542.58       0        4.5  \n",
       "2           113931.57       1        8.0  \n",
       "3            93826.63       0        5.5  \n",
       "4            79084.10       0        4.5  \n",
       "...               ...     ...        ...  \n",
       "9995         96270.64       0        5.0  \n",
       "9996        101699.77       0        8.5  \n",
       "9997         42085.58       1        6.0  \n",
       "9998         92888.52       1        5.0  \n",
       "9999         38190.78       0        4.0  \n",
       "\n",
       "[10000 rows x 15 columns]"
      ]
     },
     "execution_count": 14,
     "metadata": {},
     "output_type": "execute_result"
    }
   ],
   "source": [
    "data_copy = data.copy()\n",
    "data_copy['Tenure_gb'] = data_copy.groupby(\n",
    "    ['NumOfProducts','HasCrCard','IsActiveMember','CreditScore'])['Tenure'].transform('median')\n",
    "data_copy"
   ]
  },
  {
   "cell_type": "code",
   "execution_count": 15,
   "metadata": {},
   "outputs": [],
   "source": [
    "data_copy.loc[data_copy['Tenure'].isna(),'Tenure']= data_copy['Tenure_gb']"
   ]
  },
  {
   "cell_type": "code",
   "execution_count": 16,
   "metadata": {},
   "outputs": [
    {
     "data": {
      "text/plain": [
       "<AxesSubplot:>"
      ]
     },
     "execution_count": 16,
     "metadata": {},
     "output_type": "execute_result"
    },
    {
     "data": {
      "image/png": "[encoded data removed]",
      "text/plain": [
       "<Figure size 432x288 with 1 Axes>"
      ]
     },
     "metadata": {
      "needs_background": "light"
     },
     "output_type": "display_data"
    }
   ],
   "source": [
    "data_copy.Tenure.hist()"
   ]
  },
  {
   "cell_type": "markdown",
   "metadata": {},
   "source": [
    "Распределение напоминает исходное."
   ]
  },
  {
   "cell_type": "code",
   "execution_count": 17,
   "metadata": {},
   "outputs": [],
   "source": [
    "data['Tenure_gb'] = data.groupby(\n",
    "    ['NumOfProducts','HasCrCard','IsActiveMember','CreditScore'])['Tenure'].transform('median')\n",
    "data.loc[data['Tenure'].isna(),'Tenure']= data['Tenure_gb']"
   ]
  },
  {
   "cell_type": "code",
   "execution_count": 18,
   "metadata": {},
   "outputs": [
    {
     "name": "stdout",
     "output_type": "stream",
     "text": [
      "<class 'pandas.core.frame.DataFrame'>\n",
      "RangeIndex: 10000 entries, 0 to 9999\n",
      "Data columns (total 15 columns):\n",
      " #   Column           Non-Null Count  Dtype  \n",
      "---  ------           --------------  -----  \n",
      " 0   RowNumber        10000 non-null  int64  \n",
      " 1   CustomerId       10000 non-null  int64  \n",
      " 2   Surname          10000 non-null  object \n",
      " 3   CreditScore      10000 non-null  int64  \n",
      " 4   Geography        10000 non-null  object \n",
      " 5   Gender           10000 non-null  object \n",
      " 6   Age              10000 non-null  int64  \n",
      " 7   Tenure           9872 non-null   float64\n",
      " 8   Balance          10000 non-null  float64\n",
      " 9   NumOfProducts    10000 non-null  int64  \n",
      " 10  HasCrCard        10000 non-null  int64  \n",
      " 11  IsActiveMember   10000 non-null  int64  \n",
      " 12  EstimatedSalary  10000 non-null  float64\n",
      " 13  Exited           10000 non-null  int64  \n",
      " 14  Tenure_gb        9872 non-null   float64\n",
      "dtypes: float64(4), int64(8), object(3)\n",
      "memory usage: 1.1+ MB\n"
     ]
    }
   ],
   "source": [
    "data.info()"
   ]
  },
  {
   "cell_type": "code",
   "execution_count": 19,
   "metadata": {},
   "outputs": [
    {
     "data": {
      "text/html": [
       "<div>\n",
       "<style scoped>\n",
       "    .dataframe tbody tr th:only-of-type {\n",
       "        vertical-align: middle;\n",
       "    }\n",
       "\n",
       "    .dataframe tbody tr th {\n",
       "        vertical-align: top;\n",
       "    }\n",
       "\n",
       "    .dataframe thead th {\n",
       "        text-align: right;\n",
       "    }\n",
       "</style>\n",
       "<table border=\"1\" class=\"dataframe\">\n",
       "  <thead>\n",
       "    <tr style=\"text-align: right;\">\n",
       "      <th></th>\n",
       "      <th>RowNumber</th>\n",
       "      <th>CustomerId</th>\n",
       "      <th>CreditScore</th>\n",
       "      <th>Age</th>\n",
       "      <th>Tenure</th>\n",
       "      <th>Balance</th>\n",
       "      <th>NumOfProducts</th>\n",
       "      <th>HasCrCard</th>\n",
       "      <th>IsActiveMember</th>\n",
       "      <th>EstimatedSalary</th>\n",
       "      <th>Exited</th>\n",
       "      <th>Tenure_gb</th>\n",
       "    </tr>\n",
       "  </thead>\n",
       "  <tbody>\n",
       "    <tr>\n",
       "      <th>RowNumber</th>\n",
       "      <td>1.000000</td>\n",
       "      <td>0.004202</td>\n",
       "      <td>0.005840</td>\n",
       "      <td>0.000783</td>\n",
       "      <td>-0.002829</td>\n",
       "      <td>-0.009067</td>\n",
       "      <td>0.007246</td>\n",
       "      <td>0.000599</td>\n",
       "      <td>0.012044</td>\n",
       "      <td>-0.005988</td>\n",
       "      <td>-0.016571</td>\n",
       "      <td>0.009077</td>\n",
       "    </tr>\n",
       "    <tr>\n",
       "      <th>CustomerId</th>\n",
       "      <td>0.004202</td>\n",
       "      <td>1.000000</td>\n",
       "      <td>0.005308</td>\n",
       "      <td>0.009497</td>\n",
       "      <td>-0.021270</td>\n",
       "      <td>-0.012419</td>\n",
       "      <td>0.016972</td>\n",
       "      <td>-0.014025</td>\n",
       "      <td>0.001665</td>\n",
       "      <td>0.015271</td>\n",
       "      <td>-0.006248</td>\n",
       "      <td>-0.010830</td>\n",
       "    </tr>\n",
       "    <tr>\n",
       "      <th>CreditScore</th>\n",
       "      <td>0.005840</td>\n",
       "      <td>0.005308</td>\n",
       "      <td>1.000000</td>\n",
       "      <td>-0.003965</td>\n",
       "      <td>-0.001321</td>\n",
       "      <td>0.006268</td>\n",
       "      <td>0.012238</td>\n",
       "      <td>-0.005458</td>\n",
       "      <td>0.025651</td>\n",
       "      <td>-0.001384</td>\n",
       "      <td>-0.027094</td>\n",
       "      <td>-0.003719</td>\n",
       "    </tr>\n",
       "    <tr>\n",
       "      <th>Age</th>\n",
       "      <td>0.000783</td>\n",
       "      <td>0.009497</td>\n",
       "      <td>-0.003965</td>\n",
       "      <td>1.000000</td>\n",
       "      <td>-0.011035</td>\n",
       "      <td>0.028308</td>\n",
       "      <td>-0.030680</td>\n",
       "      <td>-0.011721</td>\n",
       "      <td>0.085472</td>\n",
       "      <td>-0.007201</td>\n",
       "      <td>0.285323</td>\n",
       "      <td>-0.014421</td>\n",
       "    </tr>\n",
       "    <tr>\n",
       "      <th>Tenure</th>\n",
       "      <td>-0.002829</td>\n",
       "      <td>-0.021270</td>\n",
       "      <td>-0.001321</td>\n",
       "      <td>-0.011035</td>\n",
       "      <td>1.000000</td>\n",
       "      <td>-0.008112</td>\n",
       "      <td>0.010596</td>\n",
       "      <td>0.029494</td>\n",
       "      <td>-0.034361</td>\n",
       "      <td>0.005115</td>\n",
       "      <td>-0.013762</td>\n",
       "      <td>0.558668</td>\n",
       "    </tr>\n",
       "    <tr>\n",
       "      <th>Balance</th>\n",
       "      <td>-0.009067</td>\n",
       "      <td>-0.012419</td>\n",
       "      <td>0.006268</td>\n",
       "      <td>0.028308</td>\n",
       "      <td>-0.008112</td>\n",
       "      <td>1.000000</td>\n",
       "      <td>-0.304180</td>\n",
       "      <td>-0.014858</td>\n",
       "      <td>-0.010084</td>\n",
       "      <td>0.012797</td>\n",
       "      <td>0.118533</td>\n",
       "      <td>-0.010975</td>\n",
       "    </tr>\n",
       "    <tr>\n",
       "      <th>NumOfProducts</th>\n",
       "      <td>0.007246</td>\n",
       "      <td>0.016972</td>\n",
       "      <td>0.012238</td>\n",
       "      <td>-0.030680</td>\n",
       "      <td>0.010596</td>\n",
       "      <td>-0.304180</td>\n",
       "      <td>1.000000</td>\n",
       "      <td>0.003183</td>\n",
       "      <td>0.009612</td>\n",
       "      <td>0.014204</td>\n",
       "      <td>-0.047820</td>\n",
       "      <td>0.027365</td>\n",
       "    </tr>\n",
       "    <tr>\n",
       "      <th>HasCrCard</th>\n",
       "      <td>0.000599</td>\n",
       "      <td>-0.014025</td>\n",
       "      <td>-0.005458</td>\n",
       "      <td>-0.011721</td>\n",
       "      <td>0.029494</td>\n",
       "      <td>-0.014858</td>\n",
       "      <td>0.003183</td>\n",
       "      <td>1.000000</td>\n",
       "      <td>-0.011866</td>\n",
       "      <td>-0.009933</td>\n",
       "      <td>-0.007138</td>\n",
       "      <td>0.040739</td>\n",
       "    </tr>\n",
       "    <tr>\n",
       "      <th>IsActiveMember</th>\n",
       "      <td>0.012044</td>\n",
       "      <td>0.001665</td>\n",
       "      <td>0.025651</td>\n",
       "      <td>0.085472</td>\n",
       "      <td>-0.034361</td>\n",
       "      <td>-0.010084</td>\n",
       "      <td>0.009612</td>\n",
       "      <td>-0.011866</td>\n",
       "      <td>1.000000</td>\n",
       "      <td>-0.011421</td>\n",
       "      <td>-0.156128</td>\n",
       "      <td>-0.063871</td>\n",
       "    </tr>\n",
       "    <tr>\n",
       "      <th>EstimatedSalary</th>\n",
       "      <td>-0.005988</td>\n",
       "      <td>0.015271</td>\n",
       "      <td>-0.001384</td>\n",
       "      <td>-0.007201</td>\n",
       "      <td>0.005115</td>\n",
       "      <td>0.012797</td>\n",
       "      <td>0.014204</td>\n",
       "      <td>-0.009933</td>\n",
       "      <td>-0.011421</td>\n",
       "      <td>1.000000</td>\n",
       "      <td>0.012097</td>\n",
       "      <td>-0.002820</td>\n",
       "    </tr>\n",
       "    <tr>\n",
       "      <th>Exited</th>\n",
       "      <td>-0.016571</td>\n",
       "      <td>-0.006248</td>\n",
       "      <td>-0.027094</td>\n",
       "      <td>0.285323</td>\n",
       "      <td>-0.013762</td>\n",
       "      <td>0.118533</td>\n",
       "      <td>-0.047820</td>\n",
       "      <td>-0.007138</td>\n",
       "      <td>-0.156128</td>\n",
       "      <td>0.012097</td>\n",
       "      <td>1.000000</td>\n",
       "      <td>-0.006985</td>\n",
       "    </tr>\n",
       "    <tr>\n",
       "      <th>Tenure_gb</th>\n",
       "      <td>0.009077</td>\n",
       "      <td>-0.010830</td>\n",
       "      <td>-0.003719</td>\n",
       "      <td>-0.014421</td>\n",
       "      <td>0.558668</td>\n",
       "      <td>-0.010975</td>\n",
       "      <td>0.027365</td>\n",
       "      <td>0.040739</td>\n",
       "      <td>-0.063871</td>\n",
       "      <td>-0.002820</td>\n",
       "      <td>-0.006985</td>\n",
       "      <td>1.000000</td>\n",
       "    </tr>\n",
       "  </tbody>\n",
       "</table>\n",
       "</div>"
      ],
      "text/plain": [
       "                 RowNumber  CustomerId  CreditScore       Age    Tenure  \\\n",
       "RowNumber         1.000000    0.004202     0.005840  0.000783 -0.002829   \n",
       "CustomerId        0.004202    1.000000     0.005308  0.009497 -0.021270   \n",
       "CreditScore       0.005840    0.005308     1.000000 -0.003965 -0.001321   \n",
       "Age               0.000783    0.009497    -0.003965  1.000000 -0.011035   \n",
       "Tenure           -0.002829   -0.021270    -0.001321 -0.011035  1.000000   \n",
       "Balance          -0.009067   -0.012419     0.006268  0.028308 -0.008112   \n",
       "NumOfProducts     0.007246    0.016972     0.012238 -0.030680  0.010596   \n",
       "HasCrCard         0.000599   -0.014025    -0.005458 -0.011721  0.029494   \n",
       "IsActiveMember    0.012044    0.001665     0.025651  0.085472 -0.034361   \n",
       "EstimatedSalary  -0.005988    0.015271    -0.001384 -0.007201  0.005115   \n",
       "Exited           -0.016571   -0.006248    -0.027094  0.285323 -0.013762   \n",
       "Tenure_gb         0.009077   -0.010830    -0.003719 -0.014421  0.558668   \n",
       "\n",
       "                  Balance  NumOfProducts  HasCrCard  IsActiveMember  \\\n",
       "RowNumber       -0.009067       0.007246   0.000599        0.012044   \n",
       "CustomerId      -0.012419       0.016972  -0.014025        0.001665   \n",
       "CreditScore      0.006268       0.012238  -0.005458        0.025651   \n",
       "Age              0.028308      -0.030680  -0.011721        0.085472   \n",
       "Tenure          -0.008112       0.010596   0.029494       -0.034361   \n",
       "Balance          1.000000      -0.304180  -0.014858       -0.010084   \n",
       "NumOfProducts   -0.304180       1.000000   0.003183        0.009612   \n",
       "HasCrCard       -0.014858       0.003183   1.000000       -0.011866   \n",
       "IsActiveMember  -0.010084       0.009612  -0.011866        1.000000   \n",
       "EstimatedSalary  0.012797       0.014204  -0.009933       -0.011421   \n",
       "Exited           0.118533      -0.047820  -0.007138       -0.156128   \n",
       "Tenure_gb       -0.010975       0.027365   0.040739       -0.063871   \n",
       "\n",
       "                 EstimatedSalary    Exited  Tenure_gb  \n",
       "RowNumber              -0.005988 -0.016571   0.009077  \n",
       "CustomerId              0.015271 -0.006248  -0.010830  \n",
       "CreditScore            -0.001384 -0.027094  -0.003719  \n",
       "Age                    -0.007201  0.285323  -0.014421  \n",
       "Tenure                  0.005115 -0.013762   0.558668  \n",
       "Balance                 0.012797  0.118533  -0.010975  \n",
       "NumOfProducts           0.014204 -0.047820   0.027365  \n",
       "HasCrCard              -0.009933 -0.007138   0.040739  \n",
       "IsActiveMember         -0.011421 -0.156128  -0.063871  \n",
       "EstimatedSalary         1.000000  0.012097  -0.002820  \n",
       "Exited                  0.012097  1.000000  -0.006985  \n",
       "Tenure_gb              -0.002820 -0.006985   1.000000  "
      ]
     },
     "execution_count": 19,
     "metadata": {},
     "output_type": "execute_result"
    }
   ],
   "source": [
    "data.corr()"
   ]
  },
  {
   "cell_type": "code",
   "execution_count": 22,
   "metadata": {},
   "outputs": [
    {
     "data": {
      "text/plain": [
       "<AxesSubplot:>"
      ]
     },
     "execution_count": 22,
     "metadata": {},
     "output_type": "execute_result"
    },
    {
     "data": {
      "image/png": "[encoded data removed]",
      "text/plain": [
       "<Figure size 432x288 with 2 Axes>"
      ]
     },
     "metadata": {
      "needs_background": "light"
     },
     "output_type": "display_data"
    }
   ],
   "source": [
    "corr_of_data = data.corr()\n",
    "sns.heatmap(corr_of_data,\n",
    "            xticklabels=corr.columns.values,\n",
    "            yticklabels=corr.columns.values)"
   ]
  },
  {
   "cell_type": "code",
   "execution_count": 23,
   "metadata": {},
   "outputs": [],
   "source": [
    "data = data.fillna(data['Tenure'].median())\n",
    "data = data.dropna()"
   ]
  },
  {
   "cell_type": "code",
   "execution_count": 24,
   "metadata": {},
   "outputs": [
    {
     "name": "stdout",
     "output_type": "stream",
     "text": [
      "<class 'pandas.core.frame.DataFrame'>\n",
      "Int64Index: 10000 entries, 0 to 9999\n",
      "Data columns (total 15 columns):\n",
      " #   Column           Non-Null Count  Dtype  \n",
      "---  ------           --------------  -----  \n",
      " 0   RowNumber        10000 non-null  int64  \n",
      " 1   CustomerId       10000 non-null  int64  \n",
      " 2   Surname          10000 non-null  object \n",
      " 3   CreditScore      10000 non-null  int64  \n",
      " 4   Geography        10000 non-null  object \n",
      " 5   Gender           10000 non-null  object \n",
      " 6   Age              10000 non-null  int64  \n",
      " 7   Tenure           10000 non-null  float64\n",
      " 8   Balance          10000 non-null  float64\n",
      " 9   NumOfProducts    10000 non-null  int64  \n",
      " 10  HasCrCard        10000 non-null  int64  \n",
      " 11  IsActiveMember   10000 non-null  int64  \n",
      " 12  EstimatedSalary  10000 non-null  float64\n",
      " 13  Exited           10000 non-null  int64  \n",
      " 14  Tenure_gb        10000 non-null  float64\n",
      "dtypes: float64(4), int64(8), object(3)\n",
      "memory usage: 1.2+ MB\n"
     ]
    }
   ],
   "source": [
    "data.info()"
   ]
  },
  {
   "cell_type": "code",
   "execution_count": 104,
   "metadata": {},
   "outputs": [
    {
     "data": {
      "text/plain": [
       "array([1, 3, 2, 4], dtype=int64)"
      ]
     },
     "execution_count": 104,
     "metadata": {},
     "output_type": "execute_result"
    }
   ],
   "source": [
    "data.NumOfProducts.unique()"
   ]
  },
  {
   "cell_type": "code",
   "execution_count": 105,
   "metadata": {},
   "outputs": [
    {
     "data": {
      "text/plain": [
       "array([1, 0], dtype=int64)"
      ]
     },
     "execution_count": 105,
     "metadata": {},
     "output_type": "execute_result"
    }
   ],
   "source": [
    "data.HasCrCard.unique()"
   ]
  },
  {
   "cell_type": "code",
   "execution_count": 107,
   "metadata": {},
   "outputs": [
    {
     "data": {
      "text/plain": [
       "array([1, 0], dtype=int64)"
      ]
     },
     "execution_count": 107,
     "metadata": {},
     "output_type": "execute_result"
    }
   ],
   "source": [
    "data.IsActiveMember.unique()"
   ]
  },
  {
   "cell_type": "code",
   "execution_count": 25,
   "metadata": {},
   "outputs": [
    {
     "name": "stdout",
     "output_type": "stream",
     "text": [
      "Количесвто дубликатов: 0\n"
     ]
    }
   ],
   "source": [
    "print('Количесвто дубликатов:',data.duplicated().sum())"
   ]
  },
  {
   "cell_type": "markdown",
   "metadata": {},
   "source": [
    "Удалим столбцы `'RowNumber','Surname','CustomerId','Tenure_gb'`"
   ]
  },
  {
   "cell_type": "code",
   "execution_count": 26,
   "metadata": {},
   "outputs": [],
   "source": [
    "data = data.drop(['RowNumber','Surname','CustomerId','Tenure_gb'],axis=1)"
   ]
  },
  {
   "cell_type": "code",
   "execution_count": 28,
   "metadata": {
    "scrolled": true
   },
   "outputs": [
    {
     "data": {
      "text/html": [
       "<div>\n",
       "<style scoped>\n",
       "    .dataframe tbody tr th:only-of-type {\n",
       "        vertical-align: middle;\n",
       "    }\n",
       "\n",
       "    .dataframe tbody tr th {\n",
       "        vertical-align: top;\n",
       "    }\n",
       "\n",
       "    .dataframe thead th {\n",
       "        text-align: right;\n",
       "    }\n",
       "</style>\n",
       "<table border=\"1\" class=\"dataframe\">\n",
       "  <thead>\n",
       "    <tr style=\"text-align: right;\">\n",
       "      <th></th>\n",
       "      <th>CreditScore</th>\n",
       "      <th>Geography</th>\n",
       "      <th>Gender</th>\n",
       "      <th>Age</th>\n",
       "      <th>Tenure</th>\n",
       "      <th>Balance</th>\n",
       "      <th>NumOfProducts</th>\n",
       "      <th>HasCrCard</th>\n",
       "      <th>IsActiveMember</th>\n",
       "      <th>EstimatedSalary</th>\n",
       "      <th>Exited</th>\n",
       "    </tr>\n",
       "  </thead>\n",
       "  <tbody>\n",
       "    <tr>\n",
       "      <th>0</th>\n",
       "      <td>619</td>\n",
       "      <td>France</td>\n",
       "      <td>Female</td>\n",
       "      <td>42</td>\n",
       "      <td>2.0</td>\n",
       "      <td>0.00</td>\n",
       "      <td>1</td>\n",
       "      <td>1</td>\n",
       "      <td>1</td>\n",
       "      <td>101348.88</td>\n",
       "      <td>1</td>\n",
       "    </tr>\n",
       "    <tr>\n",
       "      <th>1</th>\n",
       "      <td>608</td>\n",
       "      <td>Spain</td>\n",
       "      <td>Female</td>\n",
       "      <td>41</td>\n",
       "      <td>1.0</td>\n",
       "      <td>83807.86</td>\n",
       "      <td>1</td>\n",
       "      <td>0</td>\n",
       "      <td>1</td>\n",
       "      <td>112542.58</td>\n",
       "      <td>0</td>\n",
       "    </tr>\n",
       "    <tr>\n",
       "      <th>2</th>\n",
       "      <td>502</td>\n",
       "      <td>France</td>\n",
       "      <td>Female</td>\n",
       "      <td>42</td>\n",
       "      <td>8.0</td>\n",
       "      <td>159660.80</td>\n",
       "      <td>3</td>\n",
       "      <td>1</td>\n",
       "      <td>0</td>\n",
       "      <td>113931.57</td>\n",
       "      <td>1</td>\n",
       "    </tr>\n",
       "    <tr>\n",
       "      <th>3</th>\n",
       "      <td>699</td>\n",
       "      <td>France</td>\n",
       "      <td>Female</td>\n",
       "      <td>39</td>\n",
       "      <td>1.0</td>\n",
       "      <td>0.00</td>\n",
       "      <td>2</td>\n",
       "      <td>0</td>\n",
       "      <td>0</td>\n",
       "      <td>93826.63</td>\n",
       "      <td>0</td>\n",
       "    </tr>\n",
       "    <tr>\n",
       "      <th>4</th>\n",
       "      <td>850</td>\n",
       "      <td>Spain</td>\n",
       "      <td>Female</td>\n",
       "      <td>43</td>\n",
       "      <td>2.0</td>\n",
       "      <td>125510.82</td>\n",
       "      <td>1</td>\n",
       "      <td>1</td>\n",
       "      <td>1</td>\n",
       "      <td>79084.10</td>\n",
       "      <td>0</td>\n",
       "    </tr>\n",
       "  </tbody>\n",
       "</table>\n",
       "</div>"
      ],
      "text/plain": [
       "   CreditScore Geography  Gender  Age  Tenure    Balance  NumOfProducts  \\\n",
       "0          619    France  Female   42     2.0       0.00              1   \n",
       "1          608     Spain  Female   41     1.0   83807.86              1   \n",
       "2          502    France  Female   42     8.0  159660.80              3   \n",
       "3          699    France  Female   39     1.0       0.00              2   \n",
       "4          850     Spain  Female   43     2.0  125510.82              1   \n",
       "\n",
       "   HasCrCard  IsActiveMember  EstimatedSalary  Exited  \n",
       "0          1               1        101348.88       1  \n",
       "1          0               1        112542.58       0  \n",
       "2          1               0        113931.57       1  \n",
       "3          0               0         93826.63       0  \n",
       "4          1               1         79084.10       0  "
      ]
     },
     "execution_count": 28,
     "metadata": {},
     "output_type": "execute_result"
    }
   ],
   "source": [
    "data.head()"
   ]
  },
  {
   "cell_type": "markdown",
   "metadata": {},
   "source": [
    "Столбец `'Geography'` и `'Gender'`"
   ]
  },
  {
   "cell_type": "code",
   "execution_count": 29,
   "metadata": {},
   "outputs": [],
   "source": [
    "map_dict = {'Geography': None, 'Gender': None}\n",
    "inv_map_dict = {'Geography': None, 'Gender': None}\n",
    "\n",
    "for column in ['Geography','Gender']:\n",
    "    le = LabelEncoder()\n",
    "    le.fit(data[column])\n",
    "\n",
    "    map_dict[column] = dict(zip(le.classes_, le.transform(le.classes_)))\n",
    "    inv_map_dict[column] = {v: k for k, v in map_dict[column].items()}\n",
    "    data[column] = le.transform(data[column])"
   ]
  },
  {
   "cell_type": "code",
   "execution_count": 30,
   "metadata": {},
   "outputs": [
    {
     "data": {
      "text/plain": [
       "{'Geography': {0: 'France', 1: 'Germany', 2: 'Spain'},\n",
       " 'Gender': {0: 'Female', 1: 'Male'}}"
      ]
     },
     "execution_count": 30,
     "metadata": {},
     "output_type": "execute_result"
    }
   ],
   "source": [
    "inv_map_dict"
   ]
  },
  {
   "cell_type": "markdown",
   "metadata": {},
   "source": [
    "Преобразовали категор. признаки."
   ]
  },
  {
   "cell_type": "code",
   "execution_count": 31,
   "metadata": {},
   "outputs": [
    {
     "data": {
      "text/html": [
       "<div>\n",
       "<style scoped>\n",
       "    .dataframe tbody tr th:only-of-type {\n",
       "        vertical-align: middle;\n",
       "    }\n",
       "\n",
       "    .dataframe tbody tr th {\n",
       "        vertical-align: top;\n",
       "    }\n",
       "\n",
       "    .dataframe thead th {\n",
       "        text-align: right;\n",
       "    }\n",
       "</style>\n",
       "<table border=\"1\" class=\"dataframe\">\n",
       "  <thead>\n",
       "    <tr style=\"text-align: right;\">\n",
       "      <th></th>\n",
       "      <th>CreditScore</th>\n",
       "      <th>Geography</th>\n",
       "      <th>Gender</th>\n",
       "      <th>Age</th>\n",
       "      <th>Tenure</th>\n",
       "      <th>Balance</th>\n",
       "      <th>NumOfProducts</th>\n",
       "      <th>HasCrCard</th>\n",
       "      <th>IsActiveMember</th>\n",
       "      <th>EstimatedSalary</th>\n",
       "      <th>Exited</th>\n",
       "    </tr>\n",
       "  </thead>\n",
       "  <tbody>\n",
       "    <tr>\n",
       "      <th>0</th>\n",
       "      <td>619</td>\n",
       "      <td>0</td>\n",
       "      <td>0</td>\n",
       "      <td>42</td>\n",
       "      <td>2.0</td>\n",
       "      <td>0.00</td>\n",
       "      <td>1</td>\n",
       "      <td>1</td>\n",
       "      <td>1</td>\n",
       "      <td>101348.88</td>\n",
       "      <td>1</td>\n",
       "    </tr>\n",
       "    <tr>\n",
       "      <th>1</th>\n",
       "      <td>608</td>\n",
       "      <td>2</td>\n",
       "      <td>0</td>\n",
       "      <td>41</td>\n",
       "      <td>1.0</td>\n",
       "      <td>83807.86</td>\n",
       "      <td>1</td>\n",
       "      <td>0</td>\n",
       "      <td>1</td>\n",
       "      <td>112542.58</td>\n",
       "      <td>0</td>\n",
       "    </tr>\n",
       "    <tr>\n",
       "      <th>2</th>\n",
       "      <td>502</td>\n",
       "      <td>0</td>\n",
       "      <td>0</td>\n",
       "      <td>42</td>\n",
       "      <td>8.0</td>\n",
       "      <td>159660.80</td>\n",
       "      <td>3</td>\n",
       "      <td>1</td>\n",
       "      <td>0</td>\n",
       "      <td>113931.57</td>\n",
       "      <td>1</td>\n",
       "    </tr>\n",
       "  </tbody>\n",
       "</table>\n",
       "</div>"
      ],
      "text/plain": [
       "   CreditScore  Geography  Gender  Age  Tenure    Balance  NumOfProducts  \\\n",
       "0          619          0       0   42     2.0       0.00              1   \n",
       "1          608          2       0   41     1.0   83807.86              1   \n",
       "2          502          0       0   42     8.0  159660.80              3   \n",
       "\n",
       "   HasCrCard  IsActiveMember  EstimatedSalary  Exited  \n",
       "0          1               1        101348.88       1  \n",
       "1          0               1        112542.58       0  \n",
       "2          1               0        113931.57       1  "
      ]
     },
     "execution_count": 31,
     "metadata": {},
     "output_type": "execute_result"
    }
   ],
   "source": [
    "data.head(3)"
   ]
  },
  {
   "cell_type": "markdown",
   "metadata": {},
   "source": [
    "## Исследование задачи"
   ]
  },
  {
   "cell_type": "markdown",
   "metadata": {},
   "source": [
    "Разделим выборки на тренировочные и валидационные."
   ]
  },
  {
   "cell_type": "code",
   "execution_count": 32,
   "metadata": {},
   "outputs": [],
   "source": [
    "def features_target(data):\n",
    "    features = data.drop(['Exited'], axis=1)\n",
    "    target = data['Exited']\n",
    "\n",
    "    features_train, X, target_train, y = train_test_split(features, target, test_size=0.4, stratify=target, random_state=123)\n",
    "    features_valid, features_test, target_valid, target_test = train_test_split(X, y, test_size=0.5, stratify=y, random_state=123)\n",
    "    return features_train, features_valid, features_test, target_train, target_valid, target_test\n"
   ]
  },
  {
   "cell_type": "code",
   "execution_count": 33,
   "metadata": {},
   "outputs": [],
   "source": [
    "features_train, features_valid, features_test, target_train, target_valid, target_test = features_target(data)"
   ]
  },
  {
   "cell_type": "markdown",
   "metadata": {},
   "source": [
    "Масштабирование"
   ]
  },
  {
   "cell_type": "code",
   "execution_count": 34,
   "metadata": {},
   "outputs": [
    {
     "data": {
      "text/html": [
       "<div>\n",
       "<style scoped>\n",
       "    .dataframe tbody tr th:only-of-type {\n",
       "        vertical-align: middle;\n",
       "    }\n",
       "\n",
       "    .dataframe tbody tr th {\n",
       "        vertical-align: top;\n",
       "    }\n",
       "\n",
       "    .dataframe thead th {\n",
       "        text-align: right;\n",
       "    }\n",
       "</style>\n",
       "<table border=\"1\" class=\"dataframe\">\n",
       "  <thead>\n",
       "    <tr style=\"text-align: right;\">\n",
       "      <th></th>\n",
       "      <th>CreditScore</th>\n",
       "      <th>Geography</th>\n",
       "      <th>Gender</th>\n",
       "      <th>Age</th>\n",
       "      <th>Tenure</th>\n",
       "      <th>Balance</th>\n",
       "      <th>NumOfProducts</th>\n",
       "      <th>HasCrCard</th>\n",
       "      <th>IsActiveMember</th>\n",
       "      <th>EstimatedSalary</th>\n",
       "    </tr>\n",
       "  </thead>\n",
       "  <tbody>\n",
       "    <tr>\n",
       "      <th>6255</th>\n",
       "      <td>547</td>\n",
       "      <td>1</td>\n",
       "      <td>1</td>\n",
       "      <td>55</td>\n",
       "      <td>5.0</td>\n",
       "      <td>111362.76</td>\n",
       "      <td>3</td>\n",
       "      <td>1</td>\n",
       "      <td>0</td>\n",
       "      <td>16922.28</td>\n",
       "    </tr>\n",
       "    <tr>\n",
       "      <th>7141</th>\n",
       "      <td>755</td>\n",
       "      <td>1</td>\n",
       "      <td>0</td>\n",
       "      <td>38</td>\n",
       "      <td>1.0</td>\n",
       "      <td>82083.52</td>\n",
       "      <td>1</td>\n",
       "      <td>0</td>\n",
       "      <td>1</td>\n",
       "      <td>10333.78</td>\n",
       "    </tr>\n",
       "    <tr>\n",
       "      <th>3824</th>\n",
       "      <td>667</td>\n",
       "      <td>0</td>\n",
       "      <td>1</td>\n",
       "      <td>44</td>\n",
       "      <td>5.0</td>\n",
       "      <td>122806.95</td>\n",
       "      <td>1</td>\n",
       "      <td>0</td>\n",
       "      <td>0</td>\n",
       "      <td>15120.86</td>\n",
       "    </tr>\n",
       "    <tr>\n",
       "      <th>1901</th>\n",
       "      <td>796</td>\n",
       "      <td>2</td>\n",
       "      <td>1</td>\n",
       "      <td>67</td>\n",
       "      <td>5.0</td>\n",
       "      <td>0.00</td>\n",
       "      <td>2</td>\n",
       "      <td>0</td>\n",
       "      <td>1</td>\n",
       "      <td>54871.02</td>\n",
       "    </tr>\n",
       "    <tr>\n",
       "      <th>2886</th>\n",
       "      <td>449</td>\n",
       "      <td>0</td>\n",
       "      <td>0</td>\n",
       "      <td>37</td>\n",
       "      <td>6.0</td>\n",
       "      <td>0.00</td>\n",
       "      <td>2</td>\n",
       "      <td>1</td>\n",
       "      <td>0</td>\n",
       "      <td>82176.48</td>\n",
       "    </tr>\n",
       "    <tr>\n",
       "      <th>...</th>\n",
       "      <td>...</td>\n",
       "      <td>...</td>\n",
       "      <td>...</td>\n",
       "      <td>...</td>\n",
       "      <td>...</td>\n",
       "      <td>...</td>\n",
       "      <td>...</td>\n",
       "      <td>...</td>\n",
       "      <td>...</td>\n",
       "      <td>...</td>\n",
       "    </tr>\n",
       "    <tr>\n",
       "      <th>7072</th>\n",
       "      <td>686</td>\n",
       "      <td>0</td>\n",
       "      <td>1</td>\n",
       "      <td>37</td>\n",
       "      <td>9.0</td>\n",
       "      <td>134560.62</td>\n",
       "      <td>1</td>\n",
       "      <td>1</td>\n",
       "      <td>0</td>\n",
       "      <td>27596.39</td>\n",
       "    </tr>\n",
       "    <tr>\n",
       "      <th>4167</th>\n",
       "      <td>850</td>\n",
       "      <td>2</td>\n",
       "      <td>1</td>\n",
       "      <td>34</td>\n",
       "      <td>8.0</td>\n",
       "      <td>199229.14</td>\n",
       "      <td>1</td>\n",
       "      <td>0</td>\n",
       "      <td>0</td>\n",
       "      <td>68106.29</td>\n",
       "    </tr>\n",
       "    <tr>\n",
       "      <th>1888</th>\n",
       "      <td>429</td>\n",
       "      <td>0</td>\n",
       "      <td>1</td>\n",
       "      <td>60</td>\n",
       "      <td>7.0</td>\n",
       "      <td>0.00</td>\n",
       "      <td>2</td>\n",
       "      <td>1</td>\n",
       "      <td>1</td>\n",
       "      <td>163691.48</td>\n",
       "    </tr>\n",
       "    <tr>\n",
       "      <th>926</th>\n",
       "      <td>738</td>\n",
       "      <td>2</td>\n",
       "      <td>1</td>\n",
       "      <td>35</td>\n",
       "      <td>3.0</td>\n",
       "      <td>0.00</td>\n",
       "      <td>1</td>\n",
       "      <td>1</td>\n",
       "      <td>1</td>\n",
       "      <td>15650.73</td>\n",
       "    </tr>\n",
       "    <tr>\n",
       "      <th>9882</th>\n",
       "      <td>771</td>\n",
       "      <td>0</td>\n",
       "      <td>1</td>\n",
       "      <td>50</td>\n",
       "      <td>3.0</td>\n",
       "      <td>105229.72</td>\n",
       "      <td>1</td>\n",
       "      <td>1</td>\n",
       "      <td>1</td>\n",
       "      <td>16281.68</td>\n",
       "    </tr>\n",
       "  </tbody>\n",
       "</table>\n",
       "<p>6000 rows × 10 columns</p>\n",
       "</div>"
      ],
      "text/plain": [
       "      CreditScore  Geography  Gender  Age  Tenure    Balance  NumOfProducts  \\\n",
       "6255          547          1       1   55     5.0  111362.76              3   \n",
       "7141          755          1       0   38     1.0   82083.52              1   \n",
       "3824          667          0       1   44     5.0  122806.95              1   \n",
       "1901          796          2       1   67     5.0       0.00              2   \n",
       "2886          449          0       0   37     6.0       0.00              2   \n",
       "...           ...        ...     ...  ...     ...        ...            ...   \n",
       "7072          686          0       1   37     9.0  134560.62              1   \n",
       "4167          850          2       1   34     8.0  199229.14              1   \n",
       "1888          429          0       1   60     7.0       0.00              2   \n",
       "926           738          2       1   35     3.0       0.00              1   \n",
       "9882          771          0       1   50     3.0  105229.72              1   \n",
       "\n",
       "      HasCrCard  IsActiveMember  EstimatedSalary  \n",
       "6255          1               0         16922.28  \n",
       "7141          0               1         10333.78  \n",
       "3824          0               0         15120.86  \n",
       "1901          0               1         54871.02  \n",
       "2886          1               0         82176.48  \n",
       "...         ...             ...              ...  \n",
       "7072          1               0         27596.39  \n",
       "4167          0               0         68106.29  \n",
       "1888          1               1        163691.48  \n",
       "926           1               1         15650.73  \n",
       "9882          1               1         16281.68  \n",
       "\n",
       "[6000 rows x 10 columns]"
      ]
     },
     "execution_count": 34,
     "metadata": {},
     "output_type": "execute_result"
    }
   ],
   "source": [
    "features_train"
   ]
  },
  {
   "cell_type": "code",
   "execution_count": 35,
   "metadata": {},
   "outputs": [],
   "source": [
    "stand = StandardScaler()\n",
    "\n",
    "num_columns = ['CreditScore','Age', 'Tenure', 'Balance','EstimatedSalary']\n",
    "\n",
    "features_train[num_columns] = stand.fit_transform(features_train[num_columns])  \n",
    "features_valid[num_columns] = stand.fit_transform(features_valid[num_columns]) \n",
    "features_test[num_columns] = stand.fit_transform(features_test[num_columns]) "
   ]
  },
  {
   "cell_type": "code",
   "execution_count": 36,
   "metadata": {},
   "outputs": [
    {
     "name": "stdout",
     "output_type": "stream",
     "text": [
      "Accuracy: 0.795\n",
      "Recall: 0.15196078431372548\n",
      "F1 score: 0.23220973782771537\n",
      "AUC_ROC: 0.7172381515420239\n"
     ]
    }
   ],
   "source": [
    "model = LogisticRegression(random_state=123)\n",
    "model.fit(features_train, target_train)\n",
    "\n",
    "predicted_valid = model.predict(features_valid)\n",
    "\n",
    "probabilities_valid = model.predict_proba(features_valid)\n",
    "probabilities_one_valid = probabilities_valid[:, 1]\n",
    "\n",
    "accuracy = accuracy_score(target_valid, predicted_valid)\n",
    "recall = recall_score(target_valid, predicted_valid)\n",
    "f1 = f1_score(target_valid, predicted_valid)\n",
    "auc_roc = roc_auc_score(target_valid, probabilities_one_valid)\n",
    "\n",
    "print('Accuracy:', accuracy)\n",
    "print('Recall:', recall)\n",
    "print('F1 score:', f1)\n",
    "print('AUC_ROC:', auc_roc)"
   ]
  },
  {
   "cell_type": "code",
   "execution_count": 42,
   "metadata": {},
   "outputs": [
    {
     "name": "stdout",
     "output_type": "stream",
     "text": [
      "LogisticRegression: ROC AUC=0.717\n"
     ]
    },
    {
     "data": {
      "image/png": "[encoded data removed]",
      "text/plain": [
       "<Figure size 432x288 with 1 Axes>"
      ]
     },
     "metadata": {
      "needs_background": "light"
     },
     "output_type": "display_data"
    }
   ],
   "source": [
    "# рассчитываем ROC AUC\n",
    "lr_auc = roc_auc_score(target_valid, probabilities_one_valid)\n",
    "print('LogisticRegression: ROC AUC=%.3f' % (lr_auc))\n",
    "# рассчитываем roc-кривую\n",
    "fpr, tpr, treshold = roc_curve(target_valid, probabilities_one_valid)\n",
    "roc_auc = auc(fpr, tpr)\n",
    "# строим график\n",
    "plt.plot(fpr, tpr, color='darkorange',\n",
    "         label='ROC кривая (area = %0.2f)' % roc_auc)\n",
    "plt.plot([0, 1], [0, 1], color='navy', linestyle='--')\n",
    "plt.xlim([0.0, 1.0])\n",
    "plt.ylim([0.0, 1.05])\n",
    "plt.xlabel('False Positive Rate')\n",
    "plt.ylabel('True Positive Rate')\n",
    "plt.title('Пример ROC-кривой')\n",
    "plt.legend(loc=\"lower right\")\n",
    "plt.show()"
   ]
  },
  {
   "cell_type": "code",
   "execution_count": 57,
   "metadata": {},
   "outputs": [
    {
     "name": "stdout",
     "output_type": "stream",
     "text": [
      "Accuracy: 0.8535\n",
      "Recall: 0.42401960784313725\n",
      "F1 score: 0.5414710485133021\n",
      "RandomForestClassifier: ROC AUC=0.839\n"
     ]
    },
    {
     "data": {
      "image/png": "[encoded data removed]",
      "text/plain": [
       "<Figure size 432x288 with 1 Axes>"
      ]
     },
     "metadata": {
      "needs_background": "light"
     },
     "output_type": "display_data"
    }
   ],
   "source": [
    "#features_train, features_valid, features_test, target_train, target_valid, target_test = features_target(data)\n",
    "\n",
    "model = RandomForestClassifier(random_state = 12345)\n",
    "model.fit(features_train, target_train)\n",
    "predicted_valid = model.predict(features_valid)\n",
    "\n",
    "probabilities_valid = model.predict_proba(features_valid)\n",
    "probabilities_one_valid = probabilities_valid[:, 1]\n",
    "\n",
    "accuracy = accuracy_score(target_valid, predicted_valid)\n",
    "recall = recall_score(target_valid, predicted_valid)\n",
    "f1 = f1_score(target_valid, predicted_valid)\n",
    "auc_roc = roc_auc_score(target_valid, probabilities_one_valid)\n",
    "\n",
    "print('Accuracy:', accuracy)\n",
    "print('Recall:', recall)\n",
    "print('F1 score:', f1)\n",
    "print('RandomForestClassifier: ROC AUC=%.3f' % (auc_roc))\n",
    "\n",
    "# рассчитываем roc-кривую\n",
    "fpr, tpr, treshold = roc_curve(target_valid, probabilities_one_valid)\n",
    "roc_auc_forrest = auc(fpr, tpr)\n",
    "# строим график\n",
    "plt.plot(fpr, tpr, color='darkorange',\n",
    "         label='ROC кривая (area = %0.2f)' % roc_auc_forrest)\n",
    "plt.plot([0, 1], [0, 1], color='navy', linestyle='--')\n",
    "plt.xlim([0.0, 1.0])\n",
    "plt.ylim([0.0, 1.05])\n",
    "plt.xlabel('False Positive Rate')\n",
    "plt.ylabel('True Positive Rate')\n",
    "plt.title('Пример ROC-кривой')\n",
    "plt.legend(loc=\"lower right\")\n",
    "plt.show()"
   ]
  },
  {
   "cell_type": "markdown",
   "metadata": {},
   "source": [
    "## Борьба с дисбалансом"
   ]
  },
  {
   "cell_type": "code",
   "execution_count": 49,
   "metadata": {},
   "outputs": [
    {
     "data": {
      "text/plain": [
       "0.2037"
      ]
     },
     "execution_count": 49,
     "metadata": {},
     "output_type": "execute_result"
    }
   ],
   "source": [
    "sum(data['Exited'])/len(data)"
   ]
  },
  {
   "cell_type": "markdown",
   "metadata": {},
   "source": [
    "воспользуемся техникой upsampling "
   ]
  },
  {
   "cell_type": "code",
   "execution_count": 51,
   "metadata": {},
   "outputs": [],
   "source": [
    "def upsample(features, target, repeat):\n",
    "    features_zeros = features[target == 0]\n",
    "    features_ones = features[target == 1]\n",
    "    target_zeros = target[target == 0]\n",
    "    target_ones = target[target == 1]\n",
    "\n",
    "    features_upsampled = pd.concat([features_zeros] + [features_ones] * repeat)\n",
    "    target_upsampled = pd.concat([target_zeros] + [target_ones] * repeat)\n",
    "    \n",
    "    features_upsampled, target_upsampled = shuffle(\n",
    "        features_upsampled, target_upsampled, random_state=12345)\n",
    "    \n",
    "    return features_upsampled, target_upsampled\n",
    "\n",
    "\n"
   ]
  },
  {
   "cell_type": "code",
   "execution_count": 55,
   "metadata": {},
   "outputs": [
    {
     "name": "stdout",
     "output_type": "stream",
     "text": [
      "Accuracy: 0.666\n",
      "Recall: 0.6200980392156863\n",
      "F1 score: 0.43100511073253833\n",
      "LogisticRegression: ROC AUC=0.722\n"
     ]
    },
    {
     "data": {
      "image/png": "[encoded data removed]",
      "text/plain": [
       "<Figure size 432x288 with 1 Axes>"
      ]
     },
     "metadata": {
      "needs_background": "light"
     },
     "output_type": "display_data"
    }
   ],
   "source": [
    "#features_train, features_valid, features_test, target_train, target_valid, target_test = features_target(data)\n",
    "features_upsampled, target_upsampled = upsample(features_train, target_train, 4)\n",
    "\n",
    "model = LogisticRegression(random_state=12345,solver = 'liblinear')\n",
    "model.fit(features_upsampled,target_upsampled)\n",
    "predicted_valid = model.predict(features_valid)\n",
    "\n",
    "\n",
    "probabilities_valid = model.predict_proba(features_valid)\n",
    "probabilities_one_valid = probabilities_valid[:, 1]\n",
    "\n",
    "accuracy = accuracy_score(target_valid, predicted_valid)\n",
    "recall = recall_score(target_valid, predicted_valid)\n",
    "f1 = f1_score(target_valid, predicted_valid)\n",
    "auc_roc = roc_auc_score(target_valid, probabilities_one_valid)\n",
    "\n",
    "\n",
    "print('Accuracy:', accuracy)\n",
    "print('Recall:', recall)\n",
    "print('F1 score:', f1)\n",
    "#print('AUC_ROC:', auc_roc)\n",
    "\n",
    "\n",
    "\n",
    "print('LogisticRegression: ROC AUC=%.3f' % (auc_roc))\n",
    "# рассчитываем roc-кривую\n",
    "fpr, tpr, treshold = roc_curve(target_valid, probabilities_one_valid)\n",
    "roc_auc = auc(fpr, tpr)\n",
    "# строим график\n",
    "plt.plot(fpr, tpr, color='darkorange',\n",
    "         label='ROC кривая (area = %0.2f)' % roc_auc)\n",
    "plt.plot([0, 1], [0, 1], color='navy', linestyle='--')\n",
    "plt.xlim([0.0, 1.0])\n",
    "plt.ylim([0.0, 1.05])\n",
    "plt.xlabel('False Positive Rate')\n",
    "plt.ylabel('True Positive Rate')\n",
    "plt.title('Пример ROC-кривой')\n",
    "plt.legend(loc=\"lower right\")\n",
    "plt.show()"
   ]
  },
  {
   "cell_type": "code",
   "execution_count": 58,
   "metadata": {},
   "outputs": [
    {
     "name": "stdout",
     "output_type": "stream",
     "text": [
      "Accuracy: 0.8435\n",
      "Recall: 0.5196078431372549\n",
      "F1 score: 0.5753052917232022\n",
      "RandomForestClassifier: ROC AUC=0.837\n"
     ]
    },
    {
     "data": {
      "image/png": "[encoded data removed]",
      "text/plain": [
       "<Figure size 432x288 with 1 Axes>"
      ]
     },
     "metadata": {
      "needs_background": "light"
     },
     "output_type": "display_data"
    }
   ],
   "source": [
    "model = RandomForestClassifier(random_state = 45)\n",
    "model.fit(features_upsampled, target_upsampled )\n",
    "predicted_valid = model.predict(features_valid)\n",
    "\n",
    "probabilities_valid = model.predict_proba(features_valid)\n",
    "probabilities_one_valid = probabilities_valid[:, 1]\n",
    "\n",
    "accuracy = accuracy_score(target_valid, predicted_valid)\n",
    "recall = recall_score(target_valid, predicted_valid)\n",
    "f1 = f1_score(target_valid, predicted_valid)\n",
    "auc_roc = roc_auc_score(target_valid, probabilities_one_valid)\n",
    "\n",
    "print('Accuracy:', accuracy)\n",
    "print('Recall:', recall)\n",
    "print('F1 score:', f1)\n",
    "\n",
    "\n",
    "\n",
    "print('RandomForestClassifier: ROC AUC=%.3f' % (auc_roc))\n",
    "# рассчитываем roc-кривую\n",
    "fpr, tpr, treshold = roc_curve(target_valid, probabilities_one_valid)\n",
    "roc_auc_forrest = auc(fpr, tpr)\n",
    "# строим график\n",
    "plt.plot(fpr, tpr, color='darkorange',\n",
    "         label='ROC кривая (area = %0.2f)' % roc_auc_forrest)\n",
    "plt.plot([0, 1], [0, 1], color='navy', linestyle='--')\n",
    "plt.xlim([0.0, 1.0])\n",
    "plt.ylim([0.0, 1.05])\n",
    "plt.xlabel('False Positive Rate')\n",
    "plt.ylabel('True Positive Rate')\n",
    "plt.title('Пример ROC-кривой')\n",
    "plt.legend(loc=\"lower right\")\n",
    "plt.show()"
   ]
  },
  {
   "cell_type": "markdown",
   "metadata": {},
   "source": [
    "<div style=\"background: #cceeaa; padding: 5px; border: 1px solid green; border-radius: 5px;\">\n",
    "<font color='green'><u><b>КОММЕНТАРИЙ РЕВЬЮЕРА</b></u>\n",
    "<font color='green'><br>верно, балансировка только трайна!"
   ]
  },
  {
   "cell_type": "markdown",
   "metadata": {},
   "source": [
    "Картина по метрике F1 улучшилась."
   ]
  },
  {
   "cell_type": "markdown",
   "metadata": {},
   "source": [
    "downsampling\n"
   ]
  },
  {
   "cell_type": "code",
   "execution_count": 60,
   "metadata": {},
   "outputs": [],
   "source": [
    "def downsample(features, target, fraction):\n",
    "    features_zeros = features[target == 0]\n",
    "    features_ones = features[target == 1]\n",
    "    target_zeros = target[target == 0]\n",
    "    target_ones = target[target == 1]\n",
    "\n",
    "    features_downsampled = pd.concat(\n",
    "        [features_zeros.sample(frac=fraction, random_state=12345)] + [features_ones])\n",
    "    target_downsampled = pd.concat(\n",
    "        [target_zeros.sample(frac=fraction, random_state=12345)] + [target_ones])\n",
    "    \n",
    "    features_downsampled, target_downsampled = shuffle(\n",
    "        features_downsampled, target_downsampled, random_state=12345)\n",
    "    \n",
    "    return features_downsampled, target_downsampled\n",
    "\n"
   ]
  },
  {
   "cell_type": "code",
   "execution_count": 61,
   "metadata": {},
   "outputs": [
    {
     "name": "stdout",
     "output_type": "stream",
     "text": [
      "F1: 0.43925233644859807\n"
     ]
    }
   ],
   "source": [
    "\n",
    "#features_train, features_valid, features_test, target_train, target_valid, target_test = features_target(data_1_scal)\n",
    "features_downsampled, target_downsampled = downsample(features_train, target_train, 0.3)\n",
    "\n",
    "\n",
    "model = LogisticRegression(random_state = 12345,solver='liblinear')\n",
    "model.fit(features_downsampled,target_downsampled)\n",
    "predicted_valid = model.predict(features_valid)\n",
    "\n",
    "\n",
    "print(\"F1:\", f1_score(target_valid, predicted_valid))"
   ]
  },
  {
   "cell_type": "code",
   "execution_count": 62,
   "metadata": {},
   "outputs": [
    {
     "name": "stdout",
     "output_type": "stream",
     "text": [
      "F1: 0.5870307167235495\n"
     ]
    }
   ],
   "source": [
    "features_downsampled, target_downsampled = downsample(features_train, target_train, 0.4)\n",
    "\n",
    "\n",
    "model = RandomForestClassifier(random_state = 1234)\n",
    "model.fit(features_downsampled,target_downsampled)\n",
    "predicted_valid = model.predict(features_valid)\n",
    "\n",
    "\n",
    "print(\"F1:\", f1_score(target_valid, predicted_valid))"
   ]
  },
  {
   "cell_type": "code",
   "execution_count": 64,
   "metadata": {},
   "outputs": [
    {
     "name": "stdout",
     "output_type": "stream",
     "text": [
      "F1: 0.46036294173829995\n"
     ]
    }
   ],
   "source": [
    "\n",
    "#features_train, features_valid, features_test, target_train, target_valid, target_test = features_target(data_3_scal)\n",
    "features_downsampled, target_downsampled = downsample(features_train, target_train, 0.4)\n",
    "\n",
    "\n",
    "model = DecisionTreeClassifier(random_state = 1234)\n",
    "model.fit(features_downsampled,target_downsampled)\n",
    "predicted_valid = model.predict(features_valid)\n",
    "\n",
    "\n",
    "print(\"F1:\", f1_score(target_valid, predicted_valid))"
   ]
  },
  {
   "cell_type": "code",
   "execution_count": null,
   "metadata": {},
   "outputs": [],
   "source": [
    "\n",
    "    "
   ]
  },
  {
   "cell_type": "markdown",
   "metadata": {},
   "source": [
    "Лучше всего себя проевил downsampling на модели случайнного леса. Не плохо показал себя upsampling для второго набора данных на модели случайного леса."
   ]
  },
  {
   "cell_type": "markdown",
   "metadata": {},
   "source": [
    "<div style=\"background: #cceeaa; padding: 5px; border: 1px solid green; border-radius: 5px;\">\n",
    "<font color='green'><u><b>КОММЕНТАРИЙ РЕВЬЮЕРА</b></u>\n",
    "<font color='green'><br>ОК, увидел."
   ]
  },
  {
   "cell_type": "markdown",
   "metadata": {},
   "source": [
    "## Тестирование модели"
   ]
  },
  {
   "cell_type": "code",
   "execution_count": 115,
   "metadata": {},
   "outputs": [
    {
     "name": "stdout",
     "output_type": "stream",
     "text": [
      "F_1 мера лучшей модели 1.193049902005126 , Параметр \"n_estimators\": 380 , Максимальная глубина: 14\n"
     ]
    }
   ],
   "source": [
    "#features_train, features_valid, features_test, target_train, target_valid, target_test = features_target(data_3)\n",
    "features_train, target_train = upsample(features_train, target_train,5)\n",
    "\n",
    "best_result= 0\n",
    "best_est = 0\n",
    "best_depth = 0\n",
    "best_result = 0.5\n",
    "for est in range(100, 400, 20):#(1,200,2)(10,500,10)\n",
    "    for depth in range (5, 15):#(1,15)(5,15)\n",
    "        model = RandomForestClassifier(random_state=45, n_estimators=est ,max_depth=depth)\n",
    "        model.fit(features_train,target_train) \n",
    "        predictions_valid = model.predict(features_valid)\n",
    "        result = 0.5*f1_score(target_valid, predictions_valid)+0.5*precision_score(target_valid,predictions_valid)\n",
    "        \n",
    "        if result > best_result:\n",
    "            best_result = result\n",
    "            best_est = est\n",
    "            best_depth = depth\n",
    "print('F_1 мера лучшей модели', best_result, ', Параметр \"n_estimators\":', best_est, ', Максимальная глубина:', best_depth)"
   ]
  },
  {
   "cell_type": "markdown",
   "metadata": {},
   "source": [
    "Результаты прогонок:\n",
    "\n",
    "\n",
    "F_1 мера лучшей модели 0.6282973621103117 , Параметр \"n_estimators\": 27 , Максимальная глубина: 14\n",
    "\n",
    "\n",
    "F_1 мера лучшей модели 0.625615763546798 , Параметр \"n_estimators\": 180 , Максимальная глубина: 14\n",
    "\n",
    "\n",
    "F_1 мера лучшей модели 0.5951807228915663 , Параметр \"n_estimators\": 360 , Максимальная глубина: 13"
   ]
  },
  {
   "cell_type": "code",
   "execution_count": 116,
   "metadata": {},
   "outputs": [
    {
     "name": "stdout",
     "output_type": "stream",
     "text": [
      "Accuracy: 0.644\n",
      "Recall: 0.773955773955774\n",
      "Precision 0.33689839572192515\n",
      "F1 score: 0.4694485842026825\n",
      "RandomForestClassifier: ROC AUC=0.762\n"
     ]
    },
    {
     "data": {
      "image/png": "[encoded data removed]",
      "text/plain": [
       "<Figure size 432x288 with 1 Axes>"
      ]
     },
     "metadata": {
      "needs_background": "light"
     },
     "output_type": "display_data"
    }
   ],
   "source": [
    "from sklearn.linear_model import LogisticRegression\n",
    "    \n",
    "model = LogisticRegression(random_state=45)\n",
    "model.fit(features,target) \n",
    "\n",
    "predictions_test = model.predict(features_test)\n",
    "\n",
    "probabilities = model.predict_proba(features_test)\n",
    "probabilities_one = probabilities[:, 1]\n",
    "\n",
    "accuracy = accuracy_score(target_test, predictions_test)\n",
    "recall = recall_score(target_test, predictions_test)\n",
    "precision = precision_score(target_test,predictions_test)\n",
    "f1 = f1_score(target_test, predictions_test)\n",
    "auc_roc = roc_auc_score(target_test, probabilities_one)\n",
    "\n",
    "print('Accuracy:', accuracy)\n",
    "print('Recall:', recall)\n",
    "print('Precision',precision)\n",
    "print('F1 score:', f1)\n",
    "\n",
    "\n",
    "\n",
    "print('RandomForestClassifier: ROC AUC=%.3f' % (auc_roc))\n",
    "# рассчитываем roc-кривую\n",
    "fpr, tpr, treshold = roc_curve(target_test, probabilities_one)\n",
    "roc_auc_forrest = auc(fpr, tpr)\n",
    "# строим график\n",
    "plt.plot(fpr, tpr, color='darkorange',\n",
    "         label='ROC кривая (area = %0.2f)' % roc_auc_forrest)\n",
    "plt.plot([0, 1], [0, 1], color='navy', linestyle='--')\n",
    "plt.xlim([0.0, 1.0])\n",
    "plt.ylim([0.0, 1.05])\n",
    "plt.xlabel('False Positive Rate')\n",
    "plt.ylabel('True Positive Rate')\n",
    "plt.title('Пример ROC-кривой')\n",
    "plt.legend(loc=\"lower right\")\n",
    "plt.show()\n",
    "\n"
   ]
  },
  {
   "cell_type": "code",
   "execution_count": 100,
   "metadata": {},
   "outputs": [],
   "source": [
    "\n",
    "\n",
    "features_train, features_valid, features_test, target_train, target_valid, target_test = features_target(data)\n",
    "\n",
    "#features_train, target_train = upsample(features_train, target_train,5)\n",
    "#features_train, target_train = downsample(features_train, target_train,0.3)\n",
    "\n",
    "features = pd.concat([features_train, features_valid])\n",
    "target = target_train.append(target_valid)\n",
    "\n",
    "stand = StandardScaler()\n",
    "num_columns = ['CreditScore','Age', 'Tenure', 'Balance','EstimatedSalary']\n",
    "\n",
    "features[num_columns] = stand.fit_transform(features[num_columns])   \n",
    "features_test[num_columns] = stand.fit_transform(features_test[num_columns])\n",
    "\n",
    "features, target = upsample(features, target,5)\n",
    "\n",
    "\n",
    "\n"
   ]
  },
  {
   "cell_type": "code",
   "execution_count": 114,
   "metadata": {},
   "outputs": [
    {
     "name": "stdout",
     "output_type": "stream",
     "text": [
      "Accuracy: 0.839\n",
      "Recall: 0.6658476658476659\n",
      "Precision 0.5929978118161926\n",
      "F1 score: 0.6273148148148149\n",
      "RandomForestClassifier: ROC AUC=0.865\n"
     ]
    },
    {
     "data": {
      "image/png": "[encoded data removed]",
      "text/plain": [
       "<Figure size 432x288 with 1 Axes>"
      ]
     },
     "metadata": {
      "needs_background": "light"
     },
     "output_type": "display_data"
    }
   ],
   "source": [
    "model = RandomForestClassifier(random_state=45, n_estimators=360 ,max_depth=13)\n",
    "model.fit(features,target) \n",
    "\n",
    "predictions_test = model.predict(features_test)\n",
    "\n",
    "probabilities = model.predict_proba(features_test)\n",
    "probabilities_one = probabilities[:, 1]\n",
    "\n",
    "accuracy = accuracy_score(target_test, predictions_test)\n",
    "recall = recall_score(target_test, predictions_test)\n",
    "precision = precision_score(target_test,predictions_test)\n",
    "f1 = f1_score(target_test, predictions_test)\n",
    "auc_roc = roc_auc_score(target_test, probabilities_one)\n",
    "\n",
    "print('Accuracy:', accuracy)\n",
    "print('Recall:', recall)\n",
    "print('Precision',precision)\n",
    "print('F1 score:', f1)\n",
    "\n",
    "\n",
    "\n",
    "print('RandomForestClassifier: ROC AUC=%.3f' % (auc_roc))\n",
    "# рассчитываем roc-кривую\n",
    "fpr, tpr, treshold = roc_curve(target_test, probabilities_one)\n",
    "roc_auc_forrest = auc(fpr, tpr)\n",
    "# строим график\n",
    "plt.plot(fpr, tpr, color='darkorange',\n",
    "         label='ROC кривая (area = %0.2f)' % roc_auc_forrest)\n",
    "plt.plot([0, 1], [0, 1], color='navy', linestyle='--')\n",
    "plt.xlim([0.0, 1.0])\n",
    "plt.ylim([0.0, 1.05])\n",
    "plt.xlabel('False Positive Rate')\n",
    "plt.ylabel('True Positive Rate')\n",
    "plt.title('Пример ROC-кривой')\n",
    "plt.legend(loc=\"lower right\")\n",
    "plt.show()"
   ]
  },
  {
   "cell_type": "markdown",
   "metadata": {},
   "source": [
    "<div style=\"background: #cceeaa; padding: 5px; border: 1px solid green; border-radius: 5px;\">\n",
    "<font color='green'><u><b>КОММЕНТАРИЙ РЕВЬЮЕРА</b></u>\n",
    "<font color='green'><br>\n",
    "<br/>ОК, Ислам, на самом деле добротная работа! <br>\n",
    "Подготовка данных, разносторонняя работа с диссбалансом и исследование моделей и поиск парамтров для них - ничего не забыто <br>\n",
    "И видно, что проделана рабочая аналитическая работа: результативно и с выводами.<br>  \n",
    "\n",
    "<font color='green'>\n",
    "Если говорить, что можно ещё улучшить в подобных проектах, то я бы выделили такие моменты:<br>   \n",
    "1) Для понимания, а какие в итоге факторы важны при моделировании, можно выводить их важность, использую feature_importances_, ну и график заодно. Это будет смотреться очнь здорово: результативная метрика и график важности факторов)))<br> Очень ВАЖНАЯ для аналитики штука. Ведь нам не просто модель с метрикой нужна, а ещё и причины понять высокой/низкой метрики. Т.е. понять с какой силой сами факторы влияют на целевую.<br>\n",
    "    \n",
    "2) Наверняка знаешь, поэтому просто акцетрирую ещё раз: F1 и AUC - отличные метрики, но нужно держать в голове, что это лишь бобщённые характеристики. А в реальной практике бизнесу часто важно знать детали самой ошибки - из каких ошибок/успехов она складывается. И в этом случае очень кстати будут меры полноты и точности. Рассмотри возможность их использования для своих проектов. Только через них можно выйти на финансовые возможности модели. Ведь перед запуском её в бой, будет сравнение стоимости создания и поддержки модели со стомостью \"оставить как есть\" <br>   \n",
    "\n",
    "В тексте - уже всё написал. Посомтри, пожалуйста:<br>\n",
    "1) комментарий по масштабированию.<br>\n",
    "2) комментарий по проверке на тесте.<br>\n",
    "\n",
    "Спасибо) БУДУ ЖДАТЬ КОММЕНТАРИЕВ!"
   ]
  },
  {
   "cell_type": "code",
   "execution_count": 119,
   "metadata": {},
   "outputs": [
    {
     "data": {
      "image/png": "[encoded data removed]",
      "text/plain": [
       "<Figure size 432x288 with 1 Axes>"
      ]
     },
     "metadata": {
      "needs_background": "light"
     },
     "output_type": "display_data"
    }
   ],
   "source": [
    "\n",
    "\n",
    "features_train, features_valid, features_test, target_train, target_valid, target_test = features_target(data)\n",
    "\n",
    "forest = RandomForestClassifier(random_state=145)\n",
    "forest.fit(features_train, target_train)\n",
    "\n",
    "importances = forest.feature_importances_\n",
    "std = np.std([tree.feature_importances_ for tree in forest.estimators_], axis=0)\n",
    "\n",
    "columns_data = features_train.columns\n",
    "forest_importances = pd.Series(importances, index=columns_data)\n",
    "\n",
    "fig, ax = plt.subplots()\n",
    "forest_importances.plot.bar(yerr=std, ax=ax)\n",
    "ax.set_title(\"Важность признаков через MDI\")\n",
    "ax.set_ylabel(\"Среднее от 'примеси'\")\n",
    "fig.tight_layout()"
   ]
  },
  {
   "cell_type": "code",
   "execution_count": 66,
   "metadata": {},
   "outputs": [
    {
     "data": {
      "text/plain": [
       "array([0.15600815, 0.03769632, 0.01931618, 0.23420669, 0.05445761,\n",
       "       0.15117501, 0.12909915, 0.02121076, 0.04270704, 0.15412309])"
      ]
     },
     "execution_count": 66,
     "metadata": {},
     "output_type": "execute_result"
    }
   ],
   "source": [
    "importances"
   ]
  },
  {
   "cell_type": "markdown",
   "metadata": {},
   "source": [
    "## Вывод\n"
   ]
  },
  {
   "cell_type": "markdown",
   "metadata": {},
   "source": [
    "Подобрав параметры для модели `RandomForestClassifier` смогли получить приемлемую величину метрики F_1 = 0.61. "
   ]
  },
  {
   "cell_type": "markdown",
   "metadata": {},
   "source": [
    "## Чек-лист готовности проекта"
   ]
  },
  {
   "cell_type": "markdown",
   "metadata": {},
   "source": [
    "Поставьте 'x' в выполненных пунктах. Далее нажмите Shift+Enter."
   ]
  },
  {
   "cell_type": "markdown",
   "metadata": {},
   "source": [
    "- [x]  Jupyter Notebook открыт\n",
    "- [ ]  Весь код выполняется без ошибок\n",
    "- [ ]  Ячейки с кодом расположены в порядке исполнения\n",
    "- [ ]  Выполнен шаг 1: данные подготовлены\n",
    "- [ ]  Выполнен шаг 2: задача исследована\n",
    "    - [ ]  Исследован баланс классов\n",
    "    - [ ]  Изучены модели без учёта дисбаланса\n",
    "    - [ ]  Написаны выводы по результатам исследования\n",
    "- [ ]  Выполнен шаг 3: учтён дисбаланс\n",
    "    - [ ]  Применено несколько способов борьбы с дисбалансом\n",
    "    - [ ]  Написаны выводы по результатам исследования\n",
    "- [ ]  Выполнен шаг 4: проведено тестирование\n",
    "- [ ]  Удалось достичь *F1*-меры не менее 0.59\n",
    "- [ ]  Исследована метрика *AUC-ROC*"
   ]
  },
  {
   "cell_type": "code",
   "execution_count": 108,
   "metadata": {},
   "outputs": [
    {
     "data": {
      "text/plain": [
       "6.4"
      ]
     },
     "execution_count": 108,
     "metadata": {},
     "output_type": "execute_result"
    }
   ],
   "source": [
    "1600/250\n"
   ]
  },
  {
   "cell_type": "code",
   "execution_count": 109,
   "metadata": {},
   "outputs": [
    {
     "data": {
      "text/plain": [
       "6400.0"
      ]
     },
     "execution_count": 109,
     "metadata": {},
     "output_type": "execute_result"
    }
   ],
   "source": [
    "6.4*1000\n"
   ]
  },
  {
   "cell_type": "code",
   "execution_count": null,
   "metadata": {},
   "outputs": [],
   "source": []
  }
 ],
 "metadata": {
  "ExecuteTimeLog": [
   {
    "duration": 4,
    "start_time": "2022-01-17T21:45:34.392Z"
   },
   {
    "duration": 33,
    "start_time": "2022-01-17T21:45:55.665Z"
   },
   {
    "duration": 18,
    "start_time": "2022-01-17T21:46:04.589Z"
   },
   {
    "duration": 726,
    "start_time": "2022-01-19T21:55:44.118Z"
   },
   {
    "duration": 13,
    "start_time": "2022-01-19T21:55:50.580Z"
   },
   {
    "duration": 5,
    "start_time": "2022-01-19T21:55:59.430Z"
   },
   {
    "duration": 3,
    "start_time": "2022-01-19T21:56:46.270Z"
   },
   {
    "duration": 38,
    "start_time": "2022-01-19T21:56:47.441Z"
   },
   {
    "duration": 25,
    "start_time": "2022-01-19T21:56:48.576Z"
   },
   {
    "duration": 17,
    "start_time": "2022-01-19T21:56:55.952Z"
   },
   {
    "duration": 12,
    "start_time": "2022-01-19T21:57:13.219Z"
   },
   {
    "duration": 11,
    "start_time": "2022-01-19T21:57:55.516Z"
   },
   {
    "duration": 6,
    "start_time": "2022-01-19T21:58:38.104Z"
   },
   {
    "duration": 1481,
    "start_time": "2022-01-19T21:59:32.205Z"
   },
   {
    "duration": 305,
    "start_time": "2022-01-19T22:00:38.452Z"
   },
   {
    "duration": 298,
    "start_time": "2022-01-19T22:00:48.232Z"
   },
   {
    "duration": 4,
    "start_time": "2022-01-19T22:01:19.169Z"
   },
   {
    "duration": 13,
    "start_time": "2022-01-19T22:01:27.232Z"
   },
   {
    "duration": 6,
    "start_time": "2022-01-19T22:03:08.537Z"
   },
   {
    "duration": 19,
    "start_time": "2022-01-19T22:03:15.089Z"
   },
   {
    "duration": 279,
    "start_time": "2022-01-19T22:04:49.927Z"
   },
   {
    "duration": 276,
    "start_time": "2022-01-19T22:04:53.538Z"
   },
   {
    "duration": 3,
    "start_time": "2022-01-19T22:05:01.367Z"
   },
   {
    "duration": 305,
    "start_time": "2022-01-19T22:06:20.473Z"
   },
   {
    "duration": 347,
    "start_time": "2022-01-19T22:06:30.525Z"
   },
   {
    "duration": 9,
    "start_time": "2022-01-19T22:06:33.630Z"
   },
   {
    "duration": 3,
    "start_time": "2022-01-19T22:06:39.780Z"
   },
   {
    "duration": 297,
    "start_time": "2022-01-19T22:06:51.043Z"
   },
   {
    "duration": 27,
    "start_time": "2022-01-19T22:07:09.019Z"
   },
   {
    "duration": 11,
    "start_time": "2022-01-19T22:07:09.871Z"
   },
   {
    "duration": 13,
    "start_time": "2022-01-19T22:07:18.552Z"
   },
   {
    "duration": 18,
    "start_time": "2022-01-19T22:07:21.120Z"
   },
   {
    "duration": 11,
    "start_time": "2022-01-19T22:07:28.174Z"
   },
   {
    "duration": 9,
    "start_time": "2022-01-19T22:07:29.666Z"
   },
   {
    "duration": 292,
    "start_time": "2022-01-19T22:07:31.583Z"
   },
   {
    "duration": 29,
    "start_time": "2022-01-19T22:07:51.533Z"
   },
   {
    "duration": 12,
    "start_time": "2022-01-19T22:07:51.872Z"
   },
   {
    "duration": 10,
    "start_time": "2022-01-19T22:07:56.595Z"
   },
   {
    "duration": 12,
    "start_time": "2022-01-19T22:07:57.116Z"
   },
   {
    "duration": 304,
    "start_time": "2022-01-19T22:08:11.511Z"
   },
   {
    "duration": 12,
    "start_time": "2022-01-19T22:08:17.704Z"
   },
   {
    "duration": 517,
    "start_time": "2022-01-31T08:17:47.999Z"
   },
   {
    "duration": 9,
    "start_time": "2022-01-31T08:17:48.600Z"
   },
   {
    "duration": 3,
    "start_time": "2022-01-31T08:17:49.604Z"
   },
   {
    "duration": 54,
    "start_time": "2022-01-31T08:17:50.334Z"
   },
   {
    "duration": 10,
    "start_time": "2022-01-31T08:17:51.009Z"
   },
   {
    "duration": 9,
    "start_time": "2022-01-31T08:18:03.810Z"
   },
   {
    "duration": 4,
    "start_time": "2022-01-31T08:18:08.609Z"
   },
   {
    "duration": 252,
    "start_time": "2022-01-31T08:19:21.249Z"
   },
   {
    "duration": 4,
    "start_time": "2022-01-31T08:19:41.665Z"
   },
   {
    "duration": 12,
    "start_time": "2022-01-31T08:19:44.599Z"
   },
   {
    "duration": 12,
    "start_time": "2022-01-31T08:20:01.120Z"
   },
   {
    "duration": 8,
    "start_time": "2022-01-31T08:20:19.119Z"
   },
   {
    "duration": 11,
    "start_time": "2022-01-31T08:20:31.934Z"
   },
   {
    "duration": 8,
    "start_time": "2022-01-31T08:20:38.919Z"
   },
   {
    "duration": 19,
    "start_time": "2022-01-31T08:20:43.082Z"
   },
   {
    "duration": 8,
    "start_time": "2022-01-31T08:21:29.809Z"
   },
   {
    "duration": 175,
    "start_time": "2022-01-31T08:21:37.369Z"
   },
   {
    "duration": 7,
    "start_time": "2022-01-31T08:21:44.984Z"
   },
   {
    "duration": 174,
    "start_time": "2022-01-31T08:21:50.860Z"
   },
   {
    "duration": 7,
    "start_time": "2022-01-31T08:23:12.335Z"
   },
   {
    "duration": 8,
    "start_time": "2022-01-31T08:23:12.969Z"
   },
   {
    "duration": 21,
    "start_time": "2022-01-31T08:23:25.095Z"
   },
   {
    "duration": 3,
    "start_time": "2022-01-31T08:23:34.839Z"
   },
   {
    "duration": 4,
    "start_time": "2022-01-31T08:23:35.319Z"
   },
   {
    "duration": 2,
    "start_time": "2022-01-31T08:23:35.939Z"
   },
   {
    "duration": 29,
    "start_time": "2022-01-31T08:23:36.719Z"
   },
   {
    "duration": 7,
    "start_time": "2022-01-31T08:23:37.489Z"
   },
   {
    "duration": 9,
    "start_time": "2022-01-31T08:23:42.489Z"
   },
   {
    "duration": 5,
    "start_time": "2022-01-31T08:23:45.424Z"
   },
   {
    "duration": 4,
    "start_time": "2022-01-31T08:23:56.504Z"
   },
   {
    "duration": 176,
    "start_time": "2022-01-31T08:24:23.730Z"
   },
   {
    "duration": 19,
    "start_time": "2022-01-31T08:24:24.219Z"
   },
   {
    "duration": 174,
    "start_time": "2022-01-31T08:24:49.479Z"
   },
   {
    "duration": 9,
    "start_time": "2022-01-31T08:24:53.409Z"
   },
   {
    "duration": 29,
    "start_time": "2022-01-31T08:25:00.729Z"
   },
   {
    "duration": 5,
    "start_time": "2022-01-31T08:25:03.359Z"
   },
   {
    "duration": 19,
    "start_time": "2022-01-31T08:25:05.140Z"
   },
   {
    "duration": 3,
    "start_time": "2022-01-31T08:25:44.479Z"
   },
   {
    "duration": 7,
    "start_time": "2022-01-31T08:26:03.224Z"
   },
   {
    "duration": 8,
    "start_time": "2022-01-31T08:26:04.449Z"
   },
   {
    "duration": 17,
    "start_time": "2022-01-31T08:26:09.359Z"
   },
   {
    "duration": 4,
    "start_time": "2022-01-31T08:26:50.129Z"
   },
   {
    "duration": 11,
    "start_time": "2022-01-31T08:27:31.369Z"
   },
   {
    "duration": 18,
    "start_time": "2022-01-31T08:27:37.809Z"
   },
   {
    "duration": 3,
    "start_time": "2022-01-31T08:28:16.449Z"
   },
   {
    "duration": 18,
    "start_time": "2022-01-31T08:28:18.369Z"
   },
   {
    "duration": 18,
    "start_time": "2022-01-31T08:28:31.490Z"
   },
   {
    "duration": 17,
    "start_time": "2022-01-31T08:28:33.049Z"
   },
   {
    "duration": 8,
    "start_time": "2022-01-31T08:28:47.184Z"
   },
   {
    "duration": 6,
    "start_time": "2022-01-31T08:29:41.495Z"
   },
   {
    "duration": 18,
    "start_time": "2022-01-31T08:29:43.419Z"
   },
   {
    "duration": 8,
    "start_time": "2022-01-31T08:29:44.579Z"
   },
   {
    "duration": 3,
    "start_time": "2022-01-31T08:29:57.399Z"
   },
   {
    "duration": 7,
    "start_time": "2022-01-31T08:29:57.939Z"
   },
   {
    "duration": 17,
    "start_time": "2022-01-31T08:29:58.619Z"
   },
   {
    "duration": 8,
    "start_time": "2022-01-31T08:30:01.170Z"
   },
   {
    "duration": 3,
    "start_time": "2022-01-31T08:30:15.969Z"
   },
   {
    "duration": 4,
    "start_time": "2022-01-31T08:32:23.775Z"
   },
   {
    "duration": 12,
    "start_time": "2022-01-31T09:53:13.442Z"
   },
   {
    "duration": 399,
    "start_time": "2022-02-02T07:56:56.231Z"
   },
   {
    "duration": 756,
    "start_time": "2022-02-02T07:57:07.243Z"
   },
   {
    "duration": 14,
    "start_time": "2022-02-02T07:57:08.001Z"
   },
   {
    "duration": 3,
    "start_time": "2022-02-02T07:57:08.024Z"
   },
   {
    "duration": 35,
    "start_time": "2022-02-02T07:57:08.030Z"
   },
   {
    "duration": 11,
    "start_time": "2022-02-02T07:57:08.068Z"
   },
   {
    "duration": 41,
    "start_time": "2022-02-02T07:57:08.082Z"
   },
   {
    "duration": 19,
    "start_time": "2022-02-02T07:57:08.126Z"
   },
   {
    "duration": 6,
    "start_time": "2022-02-02T07:57:08.148Z"
   },
   {
    "duration": 28,
    "start_time": "2022-02-02T07:57:08.158Z"
   },
   {
    "duration": 4,
    "start_time": "2022-02-02T07:57:08.189Z"
   },
   {
    "duration": 34,
    "start_time": "2022-02-02T07:57:08.195Z"
   },
   {
    "duration": 11,
    "start_time": "2022-02-02T07:57:08.232Z"
   },
   {
    "duration": 5,
    "start_time": "2022-02-02T07:57:08.245Z"
   },
   {
    "duration": 10,
    "start_time": "2022-02-02T07:57:08.252Z"
   },
   {
    "duration": 12,
    "start_time": "2022-02-02T07:57:08.264Z"
   },
   {
    "duration": 3,
    "start_time": "2022-02-02T07:57:08.278Z"
   },
   {
    "duration": 27,
    "start_time": "2022-02-02T07:57:08.284Z"
   },
   {
    "duration": 496,
    "start_time": "2022-02-02T08:02:47.292Z"
   },
   {
    "duration": 573,
    "start_time": "2022-02-02T08:02:53.822Z"
   },
   {
    "duration": 19,
    "start_time": "2022-02-02T08:02:58.555Z"
   },
   {
    "duration": 30,
    "start_time": "2022-02-02T08:03:11.644Z"
   },
   {
    "duration": 18,
    "start_time": "2022-02-02T08:03:28.677Z"
   },
   {
    "duration": 15,
    "start_time": "2022-02-02T08:03:43.008Z"
   },
   {
    "duration": 26,
    "start_time": "2022-02-02T08:03:54.161Z"
   },
   {
    "duration": 19,
    "start_time": "2022-02-02T08:03:56.664Z"
   },
   {
    "duration": 6,
    "start_time": "2022-02-02T08:04:14.595Z"
   },
   {
    "duration": 5,
    "start_time": "2022-02-02T08:04:29.712Z"
   },
   {
    "duration": 347,
    "start_time": "2022-02-02T08:05:20.913Z"
   },
   {
    "duration": 316,
    "start_time": "2022-02-02T08:05:37.129Z"
   },
   {
    "duration": 19,
    "start_time": "2022-02-02T08:06:22.081Z"
   },
   {
    "duration": 17,
    "start_time": "2022-02-02T08:06:47.272Z"
   },
   {
    "duration": 16,
    "start_time": "2022-02-02T08:07:04.395Z"
   },
   {
    "duration": 21,
    "start_time": "2022-02-02T08:07:10.886Z"
   },
   {
    "duration": 20,
    "start_time": "2022-02-02T08:07:13.677Z"
   },
   {
    "duration": 365,
    "start_time": "2022-02-02T08:12:15.876Z"
   },
   {
    "duration": 336,
    "start_time": "2022-02-02T08:12:29.644Z"
   },
   {
    "duration": 481,
    "start_time": "2022-02-02T08:12:38.624Z"
   },
   {
    "duration": 19,
    "start_time": "2022-02-02T08:13:18.885Z"
   },
   {
    "duration": 23,
    "start_time": "2022-02-02T08:13:54.297Z"
   },
   {
    "duration": 21,
    "start_time": "2022-02-02T08:14:03.733Z"
   },
   {
    "duration": 20,
    "start_time": "2022-02-02T08:14:08.377Z"
   },
   {
    "duration": 20,
    "start_time": "2022-02-02T08:14:14.403Z"
   },
   {
    "duration": 12,
    "start_time": "2022-02-02T08:14:47.376Z"
   },
   {
    "duration": 25,
    "start_time": "2022-02-02T08:14:48.356Z"
   },
   {
    "duration": 15,
    "start_time": "2022-02-02T08:16:43.120Z"
   },
   {
    "duration": 15,
    "start_time": "2022-02-02T08:16:46.121Z"
   },
   {
    "duration": 301,
    "start_time": "2022-02-02T08:16:49.761Z"
   },
   {
    "duration": 19,
    "start_time": "2022-02-02T08:17:24.713Z"
   },
   {
    "duration": 32,
    "start_time": "2022-02-02T08:17:27.400Z"
   },
   {
    "duration": 20,
    "start_time": "2022-02-02T08:17:34.772Z"
   },
   {
    "duration": 12,
    "start_time": "2022-02-02T08:17:42.733Z"
   },
   {
    "duration": 9268,
    "start_time": "2022-02-02T08:17:53.648Z"
   },
   {
    "duration": 20,
    "start_time": "2022-02-02T08:18:17.513Z"
   },
   {
    "duration": 16,
    "start_time": "2022-02-02T08:18:21.925Z"
   },
   {
    "duration": 32,
    "start_time": "2022-02-02T08:18:25.233Z"
   },
   {
    "duration": 18,
    "start_time": "2022-02-02T08:18:38.045Z"
   },
   {
    "duration": 19,
    "start_time": "2022-02-02T08:18:41.265Z"
   },
   {
    "duration": 2346,
    "start_time": "2022-02-02T08:20:24.701Z"
   },
   {
    "duration": 16,
    "start_time": "2022-02-02T08:20:46.026Z"
   },
   {
    "duration": 21,
    "start_time": "2022-02-02T08:20:50.353Z"
   },
   {
    "duration": 314,
    "start_time": "2022-02-02T08:21:24.701Z"
   },
   {
    "duration": 309,
    "start_time": "2022-02-02T08:22:02.641Z"
   },
   {
    "duration": 336,
    "start_time": "2022-02-02T08:22:17.734Z"
   },
   {
    "duration": 313,
    "start_time": "2022-02-02T08:22:35.210Z"
   },
   {
    "duration": 84,
    "start_time": "2022-02-02T08:22:50.742Z"
   },
   {
    "duration": 1012,
    "start_time": "2022-02-02T22:46:13.899Z"
   },
   {
    "duration": 8,
    "start_time": "2022-02-02T22:46:14.912Z"
   },
   {
    "duration": 6,
    "start_time": "2022-02-02T22:46:14.921Z"
   },
   {
    "duration": 30,
    "start_time": "2022-02-02T22:46:14.928Z"
   },
   {
    "duration": 9,
    "start_time": "2022-02-02T22:46:14.959Z"
   },
   {
    "duration": 8,
    "start_time": "2022-02-02T22:46:14.969Z"
   },
   {
    "duration": 9,
    "start_time": "2022-02-02T22:46:14.979Z"
   },
   {
    "duration": 4,
    "start_time": "2022-02-02T22:46:14.989Z"
   },
   {
    "duration": 33,
    "start_time": "2022-02-02T22:46:14.995Z"
   },
   {
    "duration": 12,
    "start_time": "2022-02-02T22:46:15.029Z"
   },
   {
    "duration": 407,
    "start_time": "2022-02-02T22:46:15.043Z"
   },
   {
    "duration": -2816,
    "start_time": "2022-02-02T22:46:18.268Z"
   },
   {
    "duration": -2848,
    "start_time": "2022-02-02T22:46:18.301Z"
   },
   {
    "duration": -2852,
    "start_time": "2022-02-02T22:46:18.306Z"
   },
   {
    "duration": -2858,
    "start_time": "2022-02-02T22:46:18.312Z"
   },
   {
    "duration": -2862,
    "start_time": "2022-02-02T22:46:18.317Z"
   },
   {
    "duration": -2863,
    "start_time": "2022-02-02T22:46:18.319Z"
   },
   {
    "duration": -2864,
    "start_time": "2022-02-02T22:46:18.321Z"
   },
   {
    "duration": 10,
    "start_time": "2022-02-02T22:46:44.011Z"
   },
   {
    "duration": 20,
    "start_time": "2022-02-02T22:46:51.052Z"
   },
   {
    "duration": 12,
    "start_time": "2022-02-02T22:46:52.652Z"
   },
   {
    "duration": 11,
    "start_time": "2022-02-02T22:46:53.995Z"
   },
   {
    "duration": 2712,
    "start_time": "2022-02-02T22:46:59.064Z"
   },
   {
    "duration": 388,
    "start_time": "2022-02-02T22:47:15.548Z"
   },
   {
    "duration": 39,
    "start_time": "2022-02-02T22:48:25.760Z"
   },
   {
    "duration": 64,
    "start_time": "2022-02-02T22:48:34.664Z"
   },
   {
    "duration": 322,
    "start_time": "2022-02-11T22:20:46.318Z"
   },
   {
    "duration": 2128,
    "start_time": "2022-02-11T22:21:00.039Z"
   },
   {
    "duration": 10,
    "start_time": "2022-02-11T22:21:02.169Z"
   },
   {
    "duration": 23,
    "start_time": "2022-02-11T22:21:02.182Z"
   },
   {
    "duration": 45,
    "start_time": "2022-02-11T22:21:02.207Z"
   },
   {
    "duration": 14,
    "start_time": "2022-02-11T22:21:02.254Z"
   },
   {
    "duration": 17,
    "start_time": "2022-02-11T22:21:02.270Z"
   },
   {
    "duration": 23,
    "start_time": "2022-02-11T22:21:02.290Z"
   },
   {
    "duration": 16,
    "start_time": "2022-02-11T22:21:02.315Z"
   },
   {
    "duration": 69,
    "start_time": "2022-02-11T22:21:02.334Z"
   },
   {
    "duration": 31,
    "start_time": "2022-02-11T22:21:02.406Z"
   },
   {
    "duration": 22,
    "start_time": "2022-02-11T22:21:02.440Z"
   },
   {
    "duration": 22,
    "start_time": "2022-02-11T22:21:02.464Z"
   },
   {
    "duration": 35,
    "start_time": "2022-02-11T22:21:02.488Z"
   },
   {
    "duration": 17,
    "start_time": "2022-02-11T22:21:02.524Z"
   },
   {
    "duration": 16,
    "start_time": "2022-02-11T22:21:02.543Z"
   },
   {
    "duration": 99,
    "start_time": "2022-02-11T22:21:02.561Z"
   },
   {
    "duration": 18,
    "start_time": "2022-02-11T22:21:02.662Z"
   },
   {
    "duration": 128,
    "start_time": "2022-02-11T22:21:02.682Z"
   },
   {
    "duration": 18,
    "start_time": "2022-02-11T22:28:31.677Z"
   },
   {
    "duration": 37,
    "start_time": "2022-02-11T22:28:58.264Z"
   },
   {
    "duration": 21,
    "start_time": "2022-02-11T22:29:16.619Z"
   },
   {
    "duration": 7,
    "start_time": "2022-02-11T22:29:36.187Z"
   },
   {
    "duration": 7,
    "start_time": "2022-02-11T22:29:43.957Z"
   },
   {
    "duration": 7,
    "start_time": "2022-02-11T22:29:50.625Z"
   },
   {
    "duration": 3,
    "start_time": "2022-02-11T22:37:33.186Z"
   },
   {
    "duration": 14,
    "start_time": "2022-02-11T22:37:55.836Z"
   },
   {
    "duration": 661,
    "start_time": "2022-02-11T22:43:10.824Z"
   },
   {
    "duration": 17,
    "start_time": "2022-02-11T22:43:26.808Z"
   },
   {
    "duration": 66,
    "start_time": "2022-02-11T22:43:30.547Z"
   },
   {
    "duration": 15,
    "start_time": "2022-02-11T22:43:46.473Z"
   },
   {
    "duration": 146,
    "start_time": "2022-02-11T22:43:55.960Z"
   },
   {
    "duration": 16,
    "start_time": "2022-02-11T22:44:43.772Z"
   },
   {
    "duration": 16,
    "start_time": "2022-02-11T22:54:33.591Z"
   },
   {
    "duration": 545,
    "start_time": "2022-02-11T22:54:35.008Z"
   },
   {
    "duration": 4,
    "start_time": "2022-02-11T22:54:52.857Z"
   },
   {
    "duration": 93,
    "start_time": "2022-02-11T22:54:58.617Z"
   },
   {
    "duration": 128,
    "start_time": "2022-02-11T22:55:38.580Z"
   },
   {
    "duration": 104,
    "start_time": "2022-02-11T22:55:46.264Z"
   },
   {
    "duration": 88,
    "start_time": "2022-02-11T22:55:52.030Z"
   },
   {
    "duration": 64,
    "start_time": "2022-02-11T22:55:56.397Z"
   },
   {
    "duration": 252,
    "start_time": "2022-02-11T22:56:00.956Z"
   },
   {
    "duration": 122,
    "start_time": "2022-02-11T22:56:07.587Z"
   },
   {
    "duration": 192,
    "start_time": "2022-02-11T22:56:11.716Z"
   },
   {
    "duration": 66,
    "start_time": "2022-02-11T22:56:16.965Z"
   },
   {
    "duration": 92,
    "start_time": "2022-02-11T22:56:22.315Z"
   },
   {
    "duration": 75,
    "start_time": "2022-02-11T22:56:27.234Z"
   },
   {
    "duration": 141,
    "start_time": "2022-02-11T22:56:32.699Z"
   },
   {
    "duration": 104,
    "start_time": "2022-02-11T22:56:36.547Z"
   },
   {
    "duration": 67,
    "start_time": "2022-02-11T22:56:41.242Z"
   },
   {
    "duration": 77,
    "start_time": "2022-02-11T22:56:45.987Z"
   },
   {
    "duration": 88,
    "start_time": "2022-02-11T22:56:50.160Z"
   },
   {
    "duration": 5,
    "start_time": "2022-02-11T23:00:28.689Z"
   },
   {
    "duration": 96,
    "start_time": "2022-02-11T23:01:29.311Z"
   },
   {
    "duration": 40,
    "start_time": "2022-02-11T23:01:35.485Z"
   },
   {
    "duration": 42,
    "start_time": "2022-02-11T23:01:40.743Z"
   },
   {
    "duration": 42,
    "start_time": "2022-02-11T23:01:52.721Z"
   },
   {
    "duration": 40,
    "start_time": "2022-02-11T23:01:57.505Z"
   },
   {
    "duration": 36,
    "start_time": "2022-02-11T23:02:05.287Z"
   },
   {
    "duration": 36,
    "start_time": "2022-02-11T23:02:08.597Z"
   },
   {
    "duration": 41,
    "start_time": "2022-02-11T23:02:12.213Z"
   },
   {
    "duration": 40,
    "start_time": "2022-02-11T23:02:14.885Z"
   },
   {
    "duration": 38,
    "start_time": "2022-02-11T23:02:18.673Z"
   },
   {
    "duration": 44,
    "start_time": "2022-02-11T23:02:22.790Z"
   },
   {
    "duration": 44,
    "start_time": "2022-02-11T23:02:27.186Z"
   },
   {
    "duration": 409,
    "start_time": "2022-02-14T09:19:37.430Z"
   },
   {
    "duration": 962,
    "start_time": "2022-02-14T09:19:46.710Z"
   },
   {
    "duration": 9,
    "start_time": "2022-02-14T09:19:47.673Z"
   },
   {
    "duration": 15,
    "start_time": "2022-02-14T09:19:47.684Z"
   },
   {
    "duration": 35,
    "start_time": "2022-02-14T09:19:47.701Z"
   },
   {
    "duration": 9,
    "start_time": "2022-02-14T09:19:47.737Z"
   },
   {
    "duration": 14,
    "start_time": "2022-02-14T09:19:47.748Z"
   },
   {
    "duration": 22,
    "start_time": "2022-02-14T09:19:47.763Z"
   },
   {
    "duration": 6,
    "start_time": "2022-02-14T09:19:47.787Z"
   },
   {
    "duration": 24,
    "start_time": "2022-02-14T09:19:47.796Z"
   },
   {
    "duration": 13,
    "start_time": "2022-02-14T09:19:47.822Z"
   },
   {
    "duration": 11,
    "start_time": "2022-02-14T09:19:47.837Z"
   },
   {
    "duration": 3,
    "start_time": "2022-02-14T09:19:47.850Z"
   },
   {
    "duration": 36,
    "start_time": "2022-02-14T09:19:47.855Z"
   },
   {
    "duration": 14,
    "start_time": "2022-02-14T09:19:47.892Z"
   },
   {
    "duration": 11,
    "start_time": "2022-02-14T09:19:47.907Z"
   },
   {
    "duration": 65,
    "start_time": "2022-02-14T09:19:47.920Z"
   },
   {
    "duration": 12,
    "start_time": "2022-02-14T09:19:47.987Z"
   },
   {
    "duration": 171,
    "start_time": "2022-02-14T09:19:48.001Z"
   },
   {
    "duration": 106,
    "start_time": "2022-02-14T09:19:48.174Z"
   },
   {
    "duration": 90,
    "start_time": "2022-02-14T09:19:48.282Z"
   },
   {
    "duration": 5,
    "start_time": "2022-02-14T09:19:48.375Z"
   },
   {
    "duration": 58,
    "start_time": "2022-02-14T09:19:48.471Z"
   },
   {
    "duration": 200,
    "start_time": "2022-02-14T09:19:48.572Z"
   },
   {
    "duration": 5,
    "start_time": "2022-02-14T09:19:48.775Z"
   },
   {
    "duration": 128,
    "start_time": "2022-02-14T09:19:48.782Z"
   },
   {
    "duration": 188,
    "start_time": "2022-02-14T09:19:48.912Z"
   },
   {
    "duration": 4,
    "start_time": "2022-02-14T09:20:02.240Z"
   },
   {
    "duration": 17,
    "start_time": "2022-02-14T09:21:01.339Z"
   },
   {
    "duration": 424,
    "start_time": "2022-02-14T09:23:39.880Z"
   },
   {
    "duration": 8,
    "start_time": "2022-02-14T09:23:57.211Z"
   },
   {
    "duration": 338,
    "start_time": "2022-02-14T09:28:41.935Z"
   },
   {
    "duration": 19,
    "start_time": "2022-02-14T09:29:05.800Z"
   },
   {
    "duration": 318,
    "start_time": "2022-02-14T09:34:29.230Z"
   },
   {
    "duration": 17,
    "start_time": "2022-02-14T09:34:46.095Z"
   },
   {
    "duration": 10731,
    "start_time": "2022-02-14T09:35:11.590Z"
   },
   {
    "duration": 2719,
    "start_time": "2022-02-14T09:36:16.325Z"
   },
   {
    "duration": 7,
    "start_time": "2022-02-14T09:36:37.720Z"
   },
   {
    "duration": 19,
    "start_time": "2022-02-14T09:36:47.890Z"
   },
   {
    "duration": 17,
    "start_time": "2022-02-14T09:36:58.330Z"
   },
   {
    "duration": 13,
    "start_time": "2022-02-14T09:37:19.470Z"
   },
   {
    "duration": 11,
    "start_time": "2022-02-14T09:37:49.950Z"
   },
   {
    "duration": 308,
    "start_time": "2022-02-14T09:40:20.640Z"
   },
   {
    "duration": 8,
    "start_time": "2022-02-14T09:40:46.444Z"
   },
   {
    "duration": 12,
    "start_time": "2022-02-14T09:40:54.475Z"
   },
   {
    "duration": 336,
    "start_time": "2022-02-14T09:41:02.640Z"
   },
   {
    "duration": 986,
    "start_time": "2022-02-14T09:41:17.778Z"
   },
   {
    "duration": 7,
    "start_time": "2022-02-14T09:41:18.765Z"
   },
   {
    "duration": 4,
    "start_time": "2022-02-14T09:41:18.774Z"
   },
   {
    "duration": 27,
    "start_time": "2022-02-14T09:41:18.780Z"
   },
   {
    "duration": 6,
    "start_time": "2022-02-14T09:41:18.809Z"
   },
   {
    "duration": 8,
    "start_time": "2022-02-14T09:41:18.817Z"
   },
   {
    "duration": 9,
    "start_time": "2022-02-14T09:41:18.826Z"
   },
   {
    "duration": 3,
    "start_time": "2022-02-14T09:41:18.836Z"
   },
   {
    "duration": 35,
    "start_time": "2022-02-14T09:41:18.842Z"
   },
   {
    "duration": 16,
    "start_time": "2022-02-14T09:41:18.880Z"
   },
   {
    "duration": 11,
    "start_time": "2022-02-14T09:41:18.898Z"
   },
   {
    "duration": 13,
    "start_time": "2022-02-14T09:41:18.911Z"
   },
   {
    "duration": 14,
    "start_time": "2022-02-14T09:41:18.926Z"
   },
   {
    "duration": 475,
    "start_time": "2022-02-14T09:41:18.971Z"
   },
   {
    "duration": -67,
    "start_time": "2022-02-14T09:41:19.515Z"
   },
   {
    "duration": -67,
    "start_time": "2022-02-14T09:41:19.516Z"
   },
   {
    "duration": -67,
    "start_time": "2022-02-14T09:41:19.517Z"
   },
   {
    "duration": -67,
    "start_time": "2022-02-14T09:41:19.518Z"
   },
   {
    "duration": -67,
    "start_time": "2022-02-14T09:41:19.519Z"
   },
   {
    "duration": -137,
    "start_time": "2022-02-14T09:41:19.590Z"
   },
   {
    "duration": -140,
    "start_time": "2022-02-14T09:41:19.594Z"
   },
   {
    "duration": -140,
    "start_time": "2022-02-14T09:41:19.595Z"
   },
   {
    "duration": -140,
    "start_time": "2022-02-14T09:41:19.596Z"
   },
   {
    "duration": -140,
    "start_time": "2022-02-14T09:41:19.597Z"
   },
   {
    "duration": -141,
    "start_time": "2022-02-14T09:41:19.599Z"
   },
   {
    "duration": -143,
    "start_time": "2022-02-14T09:41:19.602Z"
   },
   {
    "duration": -143,
    "start_time": "2022-02-14T09:41:19.603Z"
   },
   {
    "duration": 384,
    "start_time": "2022-02-14T09:59:17.667Z"
   },
   {
    "duration": 1010,
    "start_time": "2022-02-14T10:00:00.175Z"
   },
   {
    "duration": 9,
    "start_time": "2022-02-14T10:00:01.186Z"
   },
   {
    "duration": 7,
    "start_time": "2022-02-14T10:00:01.196Z"
   },
   {
    "duration": 37,
    "start_time": "2022-02-14T10:00:01.205Z"
   },
   {
    "duration": 8,
    "start_time": "2022-02-14T10:00:01.244Z"
   },
   {
    "duration": 15,
    "start_time": "2022-02-14T10:00:01.253Z"
   },
   {
    "duration": 14,
    "start_time": "2022-02-14T10:00:01.270Z"
   },
   {
    "duration": 4,
    "start_time": "2022-02-14T10:00:01.286Z"
   },
   {
    "duration": 19,
    "start_time": "2022-02-14T10:00:01.292Z"
   },
   {
    "duration": 16,
    "start_time": "2022-02-14T10:00:01.313Z"
   },
   {
    "duration": 10,
    "start_time": "2022-02-14T10:00:01.331Z"
   },
   {
    "duration": 34,
    "start_time": "2022-02-14T10:00:01.342Z"
   },
   {
    "duration": 34,
    "start_time": "2022-02-14T10:00:01.378Z"
   },
   {
    "duration": 460,
    "start_time": "2022-02-14T10:00:01.414Z"
   },
   {
    "duration": -51,
    "start_time": "2022-02-14T10:00:01.927Z"
   },
   {
    "duration": -51,
    "start_time": "2022-02-14T10:00:01.928Z"
   },
   {
    "duration": -51,
    "start_time": "2022-02-14T10:00:01.929Z"
   },
   {
    "duration": -52,
    "start_time": "2022-02-14T10:00:01.931Z"
   },
   {
    "duration": -114,
    "start_time": "2022-02-14T10:00:01.994Z"
   },
   {
    "duration": -119,
    "start_time": "2022-02-14T10:00:02.000Z"
   },
   {
    "duration": -121,
    "start_time": "2022-02-14T10:00:02.002Z"
   },
   {
    "duration": -121,
    "start_time": "2022-02-14T10:00:02.003Z"
   },
   {
    "duration": -121,
    "start_time": "2022-02-14T10:00:02.004Z"
   },
   {
    "duration": -121,
    "start_time": "2022-02-14T10:00:02.005Z"
   },
   {
    "duration": -121,
    "start_time": "2022-02-14T10:00:02.006Z"
   },
   {
    "duration": -122,
    "start_time": "2022-02-14T10:00:02.008Z"
   },
   {
    "duration": -123,
    "start_time": "2022-02-14T10:00:02.009Z"
   },
   {
    "duration": 410,
    "start_time": "2022-02-14T19:29:37.256Z"
   },
   {
    "duration": 1266,
    "start_time": "2022-02-14T19:29:48.193Z"
   },
   {
    "duration": 12,
    "start_time": "2022-02-14T19:29:49.462Z"
   },
   {
    "duration": 4,
    "start_time": "2022-02-14T19:29:49.477Z"
   },
   {
    "duration": 36,
    "start_time": "2022-02-14T19:29:49.484Z"
   },
   {
    "duration": 12,
    "start_time": "2022-02-14T19:29:49.522Z"
   },
   {
    "duration": 33,
    "start_time": "2022-02-14T19:29:49.537Z"
   },
   {
    "duration": 16,
    "start_time": "2022-02-14T19:29:49.572Z"
   },
   {
    "duration": 6,
    "start_time": "2022-02-14T19:29:49.591Z"
   },
   {
    "duration": 61,
    "start_time": "2022-02-14T19:29:49.600Z"
   },
   {
    "duration": 14,
    "start_time": "2022-02-14T19:29:49.663Z"
   },
   {
    "duration": 16,
    "start_time": "2022-02-14T19:29:49.679Z"
   },
   {
    "duration": 16,
    "start_time": "2022-02-14T19:29:49.697Z"
   },
   {
    "duration": 54,
    "start_time": "2022-02-14T19:29:49.716Z"
   },
   {
    "duration": 631,
    "start_time": "2022-02-14T19:29:49.773Z"
   },
   {
    "duration": -147,
    "start_time": "2022-02-14T19:29:50.555Z"
   },
   {
    "duration": -192,
    "start_time": "2022-02-14T19:29:50.602Z"
   },
   {
    "duration": -192,
    "start_time": "2022-02-14T19:29:50.605Z"
   },
   {
    "duration": -193,
    "start_time": "2022-02-14T19:29:50.608Z"
   },
   {
    "duration": -194,
    "start_time": "2022-02-14T19:29:50.611Z"
   },
   {
    "duration": -204,
    "start_time": "2022-02-14T19:29:50.623Z"
   },
   {
    "duration": -206,
    "start_time": "2022-02-14T19:29:50.628Z"
   },
   {
    "duration": -215,
    "start_time": "2022-02-14T19:29:50.639Z"
   },
   {
    "duration": -220,
    "start_time": "2022-02-14T19:29:50.646Z"
   },
   {
    "duration": -225,
    "start_time": "2022-02-14T19:29:50.653Z"
   },
   {
    "duration": -225,
    "start_time": "2022-02-14T19:29:50.656Z"
   },
   {
    "duration": -225,
    "start_time": "2022-02-14T19:29:50.658Z"
   },
   {
    "duration": -224,
    "start_time": "2022-02-14T19:29:50.659Z"
   },
   {
    "duration": 363,
    "start_time": "2022-02-14T19:30:14.198Z"
   },
   {
    "duration": 366,
    "start_time": "2022-02-14T19:32:16.707Z"
   },
   {
    "duration": 429,
    "start_time": "2022-02-14T19:32:33.923Z"
   },
   {
    "duration": 360,
    "start_time": "2022-02-14T19:32:44.953Z"
   },
   {
    "duration": 1407,
    "start_time": "2022-02-14T19:33:35.466Z"
   },
   {
    "duration": 13,
    "start_time": "2022-02-14T19:33:36.876Z"
   },
   {
    "duration": 4,
    "start_time": "2022-02-14T19:33:36.892Z"
   },
   {
    "duration": 40,
    "start_time": "2022-02-14T19:33:36.899Z"
   },
   {
    "duration": 26,
    "start_time": "2022-02-14T19:33:36.941Z"
   },
   {
    "duration": 14,
    "start_time": "2022-02-14T19:33:36.971Z"
   },
   {
    "duration": 17,
    "start_time": "2022-02-14T19:33:36.988Z"
   },
   {
    "duration": 5,
    "start_time": "2022-02-14T19:33:37.009Z"
   },
   {
    "duration": 29,
    "start_time": "2022-02-14T19:33:37.059Z"
   },
   {
    "duration": 13,
    "start_time": "2022-02-14T19:33:37.091Z"
   },
   {
    "duration": 16,
    "start_time": "2022-02-14T19:33:37.106Z"
   },
   {
    "duration": 50,
    "start_time": "2022-02-14T19:33:37.125Z"
   },
   {
    "duration": 18,
    "start_time": "2022-02-14T19:33:37.177Z"
   },
   {
    "duration": 3,
    "start_time": "2022-02-14T19:33:37.197Z"
   },
   {
    "duration": 57,
    "start_time": "2022-02-14T19:33:37.202Z"
   },
   {
    "duration": 18,
    "start_time": "2022-02-14T19:33:37.262Z"
   },
   {
    "duration": 5,
    "start_time": "2022-02-14T19:33:37.282Z"
   },
   {
    "duration": 29,
    "start_time": "2022-02-14T19:33:37.290Z"
   },
   {
    "duration": 522,
    "start_time": "2022-02-14T19:33:37.321Z"
   },
   {
    "duration": -180,
    "start_time": "2022-02-14T19:33:38.026Z"
   },
   {
    "duration": -194,
    "start_time": "2022-02-14T19:33:38.041Z"
   },
   {
    "duration": -200,
    "start_time": "2022-02-14T19:33:38.049Z"
   },
   {
    "duration": -204,
    "start_time": "2022-02-14T19:33:38.054Z"
   },
   {
    "duration": -204,
    "start_time": "2022-02-14T19:33:38.056Z"
   },
   {
    "duration": -245,
    "start_time": "2022-02-14T19:33:38.098Z"
   },
   {
    "duration": -246,
    "start_time": "2022-02-14T19:33:38.101Z"
   },
   {
    "duration": -256,
    "start_time": "2022-02-14T19:33:38.112Z"
   },
   {
    "duration": 356,
    "start_time": "2022-02-14T19:37:45.372Z"
   },
   {
    "duration": 5,
    "start_time": "2022-02-14T19:38:09.717Z"
   },
   {
    "duration": 361,
    "start_time": "2022-02-14T19:38:14.495Z"
   },
   {
    "duration": 9,
    "start_time": "2022-02-14T19:38:29.384Z"
   },
   {
    "duration": 358,
    "start_time": "2022-02-14T19:38:45.573Z"
   },
   {
    "duration": 14,
    "start_time": "2022-02-14T19:39:02.820Z"
   },
   {
    "duration": 9,
    "start_time": "2022-02-14T19:39:06.602Z"
   },
   {
    "duration": 28,
    "start_time": "2022-02-14T19:39:10.224Z"
   },
   {
    "duration": 14,
    "start_time": "2022-02-14T19:39:50.528Z"
   },
   {
    "duration": 15,
    "start_time": "2022-02-14T19:39:54.386Z"
   },
   {
    "duration": 41,
    "start_time": "2022-02-14T19:39:57.445Z"
   },
   {
    "duration": 5,
    "start_time": "2022-02-14T19:40:07.868Z"
   },
   {
    "duration": 15,
    "start_time": "2022-02-14T19:44:18.887Z"
   },
   {
    "duration": 16,
    "start_time": "2022-02-14T19:44:20.344Z"
   },
   {
    "duration": 18,
    "start_time": "2022-02-14T19:44:22.072Z"
   },
   {
    "duration": 18,
    "start_time": "2022-02-14T19:44:29.816Z"
   },
   {
    "duration": 23,
    "start_time": "2022-02-14T19:44:33.414Z"
   },
   {
    "duration": 31,
    "start_time": "2022-02-14T19:44:40.096Z"
   },
   {
    "duration": 6,
    "start_time": "2022-02-14T19:45:28.830Z"
   },
   {
    "duration": 6,
    "start_time": "2022-02-14T19:46:41.281Z"
   },
   {
    "duration": 18,
    "start_time": "2022-02-14T19:46:43.608Z"
   },
   {
    "duration": 120,
    "start_time": "2022-02-14T19:47:34.048Z"
   },
   {
    "duration": 573,
    "start_time": "2022-02-14T19:52:45.797Z"
   },
   {
    "duration": 6,
    "start_time": "2022-02-14T19:52:48.243Z"
   },
   {
    "duration": 25,
    "start_time": "2022-02-14T19:55:38.989Z"
   },
   {
    "duration": 547,
    "start_time": "2022-02-14T19:59:51.774Z"
   },
   {
    "duration": 5,
    "start_time": "2022-02-14T20:00:33.082Z"
   },
   {
    "duration": 142,
    "start_time": "2022-02-14T20:02:54.900Z"
   },
   {
    "duration": 371,
    "start_time": "2022-02-14T20:03:08.185Z"
   },
   {
    "duration": 26,
    "start_time": "2022-02-14T20:06:38.214Z"
   },
   {
    "duration": 69,
    "start_time": "2022-02-14T20:11:04.085Z"
   },
   {
    "duration": 5,
    "start_time": "2022-02-14T20:11:07.542Z"
   },
   {
    "duration": 24,
    "start_time": "2022-02-14T20:11:14.320Z"
   },
   {
    "duration": 28,
    "start_time": "2022-02-14T20:11:21.960Z"
   },
   {
    "duration": 19,
    "start_time": "2022-02-14T20:11:50.079Z"
   },
   {
    "duration": 433,
    "start_time": "2022-02-14T20:12:02.163Z"
   },
   {
    "duration": 27,
    "start_time": "2022-02-14T20:12:45.087Z"
   },
   {
    "duration": 8,
    "start_time": "2022-02-14T20:12:52.972Z"
   },
   {
    "duration": 463,
    "start_time": "2022-02-14T20:13:01.995Z"
   },
   {
    "duration": 61,
    "start_time": "2022-02-14T20:13:25.111Z"
   },
   {
    "duration": 19,
    "start_time": "2022-02-14T20:13:27.511Z"
   },
   {
    "duration": 28,
    "start_time": "2022-02-14T20:13:29.583Z"
   },
   {
    "duration": 73,
    "start_time": "2022-02-14T20:14:28.589Z"
   },
   {
    "duration": 542,
    "start_time": "2022-02-14T20:16:20.677Z"
   },
   {
    "duration": 35,
    "start_time": "2022-02-14T20:16:31.955Z"
   },
   {
    "duration": 344,
    "start_time": "2022-02-14T20:17:47.852Z"
   },
   {
    "duration": 120,
    "start_time": "2022-02-14T20:18:20.916Z"
   },
   {
    "duration": 141,
    "start_time": "2022-02-14T20:19:02.878Z"
   },
   {
    "duration": 150,
    "start_time": "2022-02-14T20:19:57.458Z"
   },
   {
    "duration": 147,
    "start_time": "2022-02-14T20:21:25.204Z"
   },
   {
    "duration": 147,
    "start_time": "2022-02-14T20:24:38.768Z"
   },
   {
    "duration": 353,
    "start_time": "2022-02-14T20:25:58.431Z"
   },
   {
    "duration": 6,
    "start_time": "2022-02-14T20:26:17.825Z"
   },
   {
    "duration": 6,
    "start_time": "2022-02-14T20:28:48.497Z"
   },
   {
    "duration": 68,
    "start_time": "2022-02-14T20:29:28.417Z"
   },
   {
    "duration": 209,
    "start_time": "2022-02-14T20:30:19.456Z"
   },
   {
    "duration": 211,
    "start_time": "2022-02-14T20:30:57.946Z"
   },
   {
    "duration": 7,
    "start_time": "2022-02-14T20:31:50.936Z"
   },
   {
    "duration": 52,
    "start_time": "2022-02-14T20:32:02.409Z"
   },
   {
    "duration": 89,
    "start_time": "2022-02-14T20:32:26.449Z"
   },
   {
    "duration": 96,
    "start_time": "2022-02-14T20:32:45.446Z"
   },
   {
    "duration": 89,
    "start_time": "2022-02-14T20:33:19.125Z"
   },
   {
    "duration": 101,
    "start_time": "2022-02-14T20:33:25.479Z"
   },
   {
    "duration": 107,
    "start_time": "2022-02-14T20:33:32.988Z"
   },
   {
    "duration": 105,
    "start_time": "2022-02-14T20:33:36.075Z"
   },
   {
    "duration": 1595,
    "start_time": "2022-02-14T20:35:57.791Z"
   },
   {
    "duration": 446,
    "start_time": "2022-02-14T20:45:51.754Z"
   },
   {
    "duration": 6,
    "start_time": "2022-02-14T20:46:09.771Z"
   },
   {
    "duration": 52,
    "start_time": "2022-02-14T20:46:28.415Z"
   },
   {
    "duration": 56,
    "start_time": "2022-02-14T20:46:39.632Z"
   },
   {
    "duration": 59,
    "start_time": "2022-02-14T20:46:42.788Z"
   },
   {
    "duration": 58,
    "start_time": "2022-02-14T20:46:45.487Z"
   },
   {
    "duration": 53,
    "start_time": "2022-02-14T20:46:57.611Z"
   },
   {
    "duration": 59,
    "start_time": "2022-02-14T20:47:02.312Z"
   },
   {
    "duration": 220,
    "start_time": "2022-02-14T20:49:40.764Z"
   },
   {
    "duration": 228,
    "start_time": "2022-02-14T20:49:45.585Z"
   },
   {
    "duration": 292,
    "start_time": "2022-02-14T20:49:48.610Z"
   },
   {
    "duration": 205,
    "start_time": "2022-02-14T20:49:52.173Z"
   },
   {
    "duration": 226,
    "start_time": "2022-02-14T20:49:57.513Z"
   },
   {
    "duration": 194,
    "start_time": "2022-02-14T20:50:02.054Z"
   },
   {
    "duration": 731,
    "start_time": "2022-02-14T20:50:06.515Z"
   },
   {
    "duration": 226,
    "start_time": "2022-02-14T20:50:12.680Z"
   },
   {
    "duration": 74091,
    "start_time": "2022-02-14T20:54:33.544Z"
   },
   {
    "duration": 46,
    "start_time": "2022-02-14T20:59:29.659Z"
   },
   {
    "duration": 873,
    "start_time": "2022-02-14T21:01:23.105Z"
   },
   {
    "duration": 736,
    "start_time": "2022-02-14T21:01:47.837Z"
   },
   {
    "duration": 46,
    "start_time": "2022-02-14T21:02:45.505Z"
   },
   {
    "duration": 705,
    "start_time": "2022-02-14T21:02:51.189Z"
   },
   {
    "duration": 437,
    "start_time": "2022-02-14T21:06:14.228Z"
   },
   {
    "duration": 48,
    "start_time": "2022-02-14T21:07:08.245Z"
   },
   {
    "duration": 86,
    "start_time": "2022-02-14T21:07:11.580Z"
   },
   {
    "duration": 97,
    "start_time": "2022-02-14T21:07:17.322Z"
   },
   {
    "duration": 92,
    "start_time": "2022-02-14T21:07:22.461Z"
   },
   {
    "duration": 99,
    "start_time": "2022-02-14T21:07:26.472Z"
   },
   {
    "duration": 194,
    "start_time": "2022-02-14T21:07:39.484Z"
   },
   {
    "duration": 198,
    "start_time": "2022-02-14T21:07:42.961Z"
   },
   {
    "duration": 203,
    "start_time": "2022-02-14T21:07:45.580Z"
   },
   {
    "duration": 205,
    "start_time": "2022-02-14T21:07:47.533Z"
   },
   {
    "duration": 213,
    "start_time": "2022-02-14T21:07:52.570Z"
   },
   {
    "duration": 8454,
    "start_time": "2022-02-14T21:08:27.868Z"
   },
   {
    "duration": 31254,
    "start_time": "2022-02-14T21:09:20.644Z"
   },
   {
    "duration": 35386,
    "start_time": "2022-02-14T21:10:51.252Z"
   },
   {
    "duration": 1608490,
    "start_time": "2022-02-14T21:11:28.337Z"
   },
   {
    "duration": 47,
    "start_time": "2022-02-14T22:48:05.912Z"
   },
   {
    "duration": 45,
    "start_time": "2022-02-14T22:48:59.851Z"
   },
   {
    "duration": 5,
    "start_time": "2022-02-14T22:49:00.796Z"
   },
   {
    "duration": 5,
    "start_time": "2022-02-14T22:49:01.588Z"
   },
   {
    "duration": 5,
    "start_time": "2022-02-14T22:49:02.430Z"
   },
   {
    "duration": 5,
    "start_time": "2022-02-14T22:49:04.968Z"
   },
   {
    "duration": 45,
    "start_time": "2022-02-14T22:49:35.482Z"
   },
   {
    "duration": 6,
    "start_time": "2022-02-14T22:49:38.632Z"
   },
   {
    "duration": 6,
    "start_time": "2022-02-14T22:49:39.094Z"
   },
   {
    "duration": 6,
    "start_time": "2022-02-14T22:49:40.267Z"
   },
   {
    "duration": 6,
    "start_time": "2022-02-14T22:49:41.082Z"
   },
   {
    "duration": 107,
    "start_time": "2022-02-14T22:50:27.337Z"
   },
   {
    "duration": 7,
    "start_time": "2022-02-14T22:50:30.165Z"
   },
   {
    "duration": 363,
    "start_time": "2022-02-14T22:55:52.449Z"
   },
   {
    "duration": 733,
    "start_time": "2022-02-14T22:57:26.905Z"
   },
   {
    "duration": 749,
    "start_time": "2022-02-14T22:58:41.608Z"
   },
   {
    "duration": 61,
    "start_time": "2022-02-14T23:00:22.369Z"
   },
   {
    "duration": 612,
    "start_time": "2022-02-14T23:00:26.188Z"
   },
   {
    "duration": 601,
    "start_time": "2022-02-14T23:00:45.904Z"
   },
   {
    "duration": 6,
    "start_time": "2022-02-14T23:00:47.505Z"
   },
   {
    "duration": 588,
    "start_time": "2022-02-14T23:00:51.357Z"
   },
   {
    "duration": 53,
    "start_time": "2022-02-14T23:02:03.485Z"
   },
   {
    "duration": 249,
    "start_time": "2022-02-14T23:02:04.197Z"
   },
   {
    "duration": 31006,
    "start_time": "2022-02-14T23:02:33.643Z"
   },
   {
    "duration": 59,
    "start_time": "2022-02-14T23:09:26.963Z"
   },
   {
    "duration": 262,
    "start_time": "2022-02-14T23:09:30.087Z"
   },
   {
    "duration": 110,
    "start_time": "2022-02-14T23:10:02.242Z"
   },
   {
    "duration": 1614783,
    "start_time": "2022-02-14T23:11:36.896Z"
   },
   {
    "duration": 59,
    "start_time": "2022-02-14T23:41:05.769Z"
   },
   {
    "duration": 1627,
    "start_time": "2022-02-14T23:41:22.347Z"
   },
   {
    "duration": 1307,
    "start_time": "2022-02-14T23:42:38.578Z"
   },
   {
    "duration": 70,
    "start_time": "2022-02-14T23:42:57.336Z"
   },
   {
    "duration": 3906,
    "start_time": "2022-02-14T23:43:01.426Z"
   },
   {
    "duration": 60,
    "start_time": "2022-02-14T23:43:42.151Z"
   },
   {
    "duration": 3860,
    "start_time": "2022-02-14T23:43:43.212Z"
   },
   {
    "duration": 5,
    "start_time": "2022-02-14T23:44:02.105Z"
   },
   {
    "duration": 5,
    "start_time": "2022-02-14T23:44:08.989Z"
   },
   {
    "duration": 1063,
    "start_time": "2022-02-15T07:57:46.829Z"
   },
   {
    "duration": 8,
    "start_time": "2022-02-15T07:57:49.925Z"
   },
   {
    "duration": 2,
    "start_time": "2022-02-15T07:57:51.722Z"
   },
   {
    "duration": 29,
    "start_time": "2022-02-15T07:57:53.116Z"
   },
   {
    "duration": 8,
    "start_time": "2022-02-15T07:57:54.113Z"
   },
   {
    "duration": 9,
    "start_time": "2022-02-15T07:57:57.047Z"
   },
   {
    "duration": 12,
    "start_time": "2022-02-15T07:57:59.685Z"
   },
   {
    "duration": 4,
    "start_time": "2022-02-15T07:58:01.716Z"
   },
   {
    "duration": 17,
    "start_time": "2022-02-15T07:58:02.559Z"
   },
   {
    "duration": 9,
    "start_time": "2022-02-15T07:58:04.232Z"
   },
   {
    "duration": 11,
    "start_time": "2022-02-15T07:58:10.981Z"
   },
   {
    "duration": 13,
    "start_time": "2022-02-15T07:58:15.966Z"
   },
   {
    "duration": 11,
    "start_time": "2022-02-15T07:58:23.767Z"
   },
   {
    "duration": 12,
    "start_time": "2022-02-15T07:58:33.695Z"
   },
   {
    "duration": 9,
    "start_time": "2022-02-15T07:59:03.799Z"
   },
   {
    "duration": 3,
    "start_time": "2022-02-15T08:00:24.500Z"
   },
   {
    "duration": 3,
    "start_time": "2022-02-15T08:00:53.902Z"
   },
   {
    "duration": 420,
    "start_time": "2022-02-15T08:01:14.376Z"
   },
   {
    "duration": 15,
    "start_time": "2022-02-15T08:01:47.901Z"
   },
   {
    "duration": 4,
    "start_time": "2022-02-15T08:01:51.202Z"
   },
   {
    "duration": 17,
    "start_time": "2022-02-15T08:01:59.477Z"
   },
   {
    "duration": 4,
    "start_time": "2022-02-15T08:02:08.225Z"
   },
   {
    "duration": 43,
    "start_time": "2022-02-15T08:02:09.368Z"
   },
   {
    "duration": 326,
    "start_time": "2022-02-15T08:02:28.359Z"
   },
   {
    "duration": 13,
    "start_time": "2022-02-15T08:02:54.355Z"
   },
   {
    "duration": 90,
    "start_time": "2022-02-15T08:03:14.749Z"
   },
   {
    "duration": 90,
    "start_time": "2022-02-15T08:03:30.445Z"
   },
   {
    "duration": 119,
    "start_time": "2022-02-15T08:03:43.354Z"
   },
   {
    "duration": 91,
    "start_time": "2022-02-15T08:04:06.057Z"
   },
   {
    "duration": 87,
    "start_time": "2022-02-15T08:04:22.305Z"
   },
   {
    "duration": 87,
    "start_time": "2022-02-15T08:04:28.776Z"
   },
   {
    "duration": 88,
    "start_time": "2022-02-15T08:04:35.411Z"
   },
   {
    "duration": 4,
    "start_time": "2022-02-15T08:04:46.780Z"
   },
   {
    "duration": 4,
    "start_time": "2022-02-15T08:04:56.649Z"
   },
   {
    "duration": 42,
    "start_time": "2022-02-15T08:05:11.523Z"
   },
   {
    "duration": 119,
    "start_time": "2022-02-15T08:05:16.772Z"
   },
   {
    "duration": 147,
    "start_time": "2022-02-15T08:05:26.866Z"
   },
   {
    "duration": 4,
    "start_time": "2022-02-15T08:05:33.206Z"
   },
   {
    "duration": 30,
    "start_time": "2022-02-15T08:05:33.897Z"
   },
   {
    "duration": 62,
    "start_time": "2022-02-15T08:05:37.943Z"
   },
   {
    "duration": 62,
    "start_time": "2022-02-15T08:05:45.443Z"
   },
   {
    "duration": 35,
    "start_time": "2022-02-15T08:06:01.435Z"
   },
   {
    "duration": 39,
    "start_time": "2022-02-15T08:07:09.813Z"
   },
   {
    "duration": 2159,
    "start_time": "2022-02-15T08:07:32.939Z"
   },
   {
    "duration": 37,
    "start_time": "2022-02-15T08:54:33.204Z"
   },
   {
    "duration": 2017,
    "start_time": "2022-02-15T08:54:35.979Z"
   },
   {
    "duration": 38,
    "start_time": "2022-02-15T08:54:41.841Z"
   },
   {
    "duration": 2206,
    "start_time": "2022-02-15T08:54:42.423Z"
   },
   {
    "duration": 115,
    "start_time": "2022-02-15T09:00:27.538Z"
   },
   {
    "duration": 122,
    "start_time": "2022-02-15T09:00:38.370Z"
   },
   {
    "duration": 12,
    "start_time": "2022-02-15T09:00:48.150Z"
   },
   {
    "duration": 94,
    "start_time": "2022-02-15T09:00:48.553Z"
   },
   {
    "duration": 88,
    "start_time": "2022-02-15T09:00:51.945Z"
   },
   {
    "duration": 117,
    "start_time": "2022-02-15T09:01:34.733Z"
   },
   {
    "duration": 118,
    "start_time": "2022-02-15T09:03:06.454Z"
   },
   {
    "duration": 35,
    "start_time": "2022-02-15T09:04:45.881Z"
   },
   {
    "duration": 2093,
    "start_time": "2022-02-15T09:04:46.417Z"
   },
   {
    "duration": 38,
    "start_time": "2022-02-15T09:06:12.171Z"
   },
   {
    "duration": 4,
    "start_time": "2022-02-15T09:06:25.208Z"
   },
   {
    "duration": 2154,
    "start_time": "2022-02-15T09:06:29.653Z"
   },
   {
    "duration": 1002,
    "start_time": "2022-02-15T18:28:36.401Z"
   },
   {
    "duration": 8,
    "start_time": "2022-02-15T18:28:37.405Z"
   },
   {
    "duration": 3,
    "start_time": "2022-02-15T18:28:37.534Z"
   },
   {
    "duration": 24,
    "start_time": "2022-02-15T18:28:38.169Z"
   },
   {
    "duration": 11,
    "start_time": "2022-02-15T18:28:38.597Z"
   },
   {
    "duration": 9,
    "start_time": "2022-02-15T18:28:39.383Z"
   },
   {
    "duration": 10,
    "start_time": "2022-02-15T18:28:41.384Z"
   },
   {
    "duration": 5,
    "start_time": "2022-02-15T18:28:59.929Z"
   },
   {
    "duration": 19,
    "start_time": "2022-02-15T18:29:00.540Z"
   },
   {
    "duration": 10,
    "start_time": "2022-02-15T18:29:03.213Z"
   },
   {
    "duration": 12,
    "start_time": "2022-02-15T18:29:03.812Z"
   },
   {
    "duration": 13,
    "start_time": "2022-02-15T18:29:04.348Z"
   },
   {
    "duration": 10,
    "start_time": "2022-02-15T18:29:05.851Z"
   },
   {
    "duration": 2,
    "start_time": "2022-02-15T18:29:06.793Z"
   },
   {
    "duration": 14,
    "start_time": "2022-02-15T18:29:07.113Z"
   },
   {
    "duration": 4,
    "start_time": "2022-02-15T18:29:07.349Z"
   },
   {
    "duration": 4,
    "start_time": "2022-02-15T18:29:09.042Z"
   },
   {
    "duration": 46,
    "start_time": "2022-02-15T18:29:09.760Z"
   },
   {
    "duration": 14,
    "start_time": "2022-02-15T18:29:10.256Z"
   },
   {
    "duration": 171,
    "start_time": "2022-02-15T18:29:10.690Z"
   },
   {
    "duration": 94,
    "start_time": "2022-02-15T18:29:11.174Z"
   },
   {
    "duration": 118,
    "start_time": "2022-02-15T18:29:11.746Z"
   },
   {
    "duration": 102,
    "start_time": "2022-02-15T18:29:12.305Z"
   },
   {
    "duration": 5,
    "start_time": "2022-02-15T18:29:12.724Z"
   },
   {
    "duration": 4,
    "start_time": "2022-02-15T18:29:13.416Z"
   },
   {
    "duration": 55,
    "start_time": "2022-02-15T18:29:13.606Z"
   },
   {
    "duration": 134,
    "start_time": "2022-02-15T18:29:13.859Z"
   },
   {
    "duration": 138,
    "start_time": "2022-02-15T18:29:13.995Z"
   },
   {
    "duration": 4,
    "start_time": "2022-02-15T18:29:14.818Z"
   },
   {
    "duration": 92,
    "start_time": "2022-02-15T18:29:14.976Z"
   },
   {
    "duration": 66,
    "start_time": "2022-02-15T18:29:15.170Z"
   },
   {
    "duration": 75,
    "start_time": "2022-02-15T18:29:15.333Z"
   },
   {
    "duration": 37,
    "start_time": "2022-02-15T18:29:15.509Z"
   },
   {
    "duration": 273518,
    "start_time": "2022-02-15T18:29:16.365Z"
   },
   {
    "duration": 40,
    "start_time": "2022-02-15T18:33:49.885Z"
   },
   {
    "duration": 2279,
    "start_time": "2022-02-15T18:33:49.927Z"
   },
   {
    "duration": 16,
    "start_time": "2022-02-15T18:34:37.527Z"
   },
   {
    "duration": 11,
    "start_time": "2022-02-15T18:35:01.502Z"
   },
   {
    "duration": 66,
    "start_time": "2022-02-15T18:42:57.289Z"
   },
   {
    "duration": 68,
    "start_time": "2022-02-15T18:43:51.422Z"
   },
   {
    "duration": 16,
    "start_time": "2022-02-15T18:43:52.856Z"
   },
   {
    "duration": 75,
    "start_time": "2022-02-15T21:43:56.339Z"
   },
   {
    "duration": 219,
    "start_time": "2022-02-15T21:49:45.075Z"
   },
   {
    "duration": 1023,
    "start_time": "2022-02-15T21:49:57.179Z"
   },
   {
    "duration": 8,
    "start_time": "2022-02-15T21:49:58.204Z"
   },
   {
    "duration": 13,
    "start_time": "2022-02-15T21:49:58.214Z"
   },
   {
    "duration": 34,
    "start_time": "2022-02-15T21:49:58.858Z"
   },
   {
    "duration": 9,
    "start_time": "2022-02-15T21:49:59.428Z"
   },
   {
    "duration": 9,
    "start_time": "2022-02-15T21:50:00.222Z"
   },
   {
    "duration": 12,
    "start_time": "2022-02-15T21:50:01.512Z"
   },
   {
    "duration": 5,
    "start_time": "2022-02-15T21:50:02.643Z"
   },
   {
    "duration": 20,
    "start_time": "2022-02-15T21:50:03.178Z"
   },
   {
    "duration": 12,
    "start_time": "2022-02-15T21:50:04.162Z"
   },
   {
    "duration": 17,
    "start_time": "2022-02-15T21:50:04.623Z"
   },
   {
    "duration": 20,
    "start_time": "2022-02-15T21:50:05.223Z"
   },
   {
    "duration": 14,
    "start_time": "2022-02-15T21:50:06.694Z"
   },
   {
    "duration": 24,
    "start_time": "2022-02-15T21:50:11.241Z"
   },
   {
    "duration": 5,
    "start_time": "2022-02-15T21:50:12.218Z"
   },
   {
    "duration": 11,
    "start_time": "2022-02-15T21:50:14.406Z"
   },
   {
    "duration": 4,
    "start_time": "2022-02-15T21:50:16.357Z"
   },
   {
    "duration": 50,
    "start_time": "2022-02-15T21:50:18.334Z"
   },
   {
    "duration": 3,
    "start_time": "2022-02-15T21:51:04.413Z"
   },
   {
    "duration": 20,
    "start_time": "2022-02-15T21:51:11.212Z"
   },
   {
    "duration": 3,
    "start_time": "2022-02-15T21:51:48.070Z"
   },
   {
    "duration": 15,
    "start_time": "2022-02-15T21:52:35.686Z"
   },
   {
    "duration": 24,
    "start_time": "2022-02-15T21:54:31.568Z"
   },
   {
    "duration": 27,
    "start_time": "2022-02-15T21:54:38.720Z"
   },
   {
    "duration": 6,
    "start_time": "2022-02-15T21:54:52.211Z"
   },
   {
    "duration": 8,
    "start_time": "2022-02-15T21:54:56.764Z"
   },
   {
    "duration": 6,
    "start_time": "2022-02-15T21:55:03.646Z"
   },
   {
    "duration": 63,
    "start_time": "2022-02-15T21:55:25.897Z"
   },
   {
    "duration": 29,
    "start_time": "2022-02-15T22:00:39.633Z"
   },
   {
    "duration": 96,
    "start_time": "2022-02-15T22:00:47.607Z"
   },
   {
    "duration": 98,
    "start_time": "2022-02-15T22:00:53.586Z"
   },
   {
    "duration": 5,
    "start_time": "2022-02-15T22:01:08.155Z"
   },
   {
    "duration": 4,
    "start_time": "2022-02-15T22:01:09.823Z"
   },
   {
    "duration": 77,
    "start_time": "2022-02-15T22:01:14.883Z"
   },
   {
    "duration": 150,
    "start_time": "2022-02-15T22:02:27.110Z"
   },
   {
    "duration": 130,
    "start_time": "2022-02-15T22:03:15.845Z"
   },
   {
    "duration": 132,
    "start_time": "2022-02-15T22:03:39.929Z"
   },
   {
    "duration": 4,
    "start_time": "2022-02-15T22:03:46.964Z"
   },
   {
    "duration": 95,
    "start_time": "2022-02-15T22:05:50.000Z"
   },
   {
    "duration": 43,
    "start_time": "2022-02-15T22:07:28.558Z"
   },
   {
    "duration": 29,
    "start_time": "2022-02-15T22:07:34.240Z"
   },
   {
    "duration": 68,
    "start_time": "2022-02-15T22:07:42.575Z"
   },
   {
    "duration": 73,
    "start_time": "2022-02-15T22:07:48.976Z"
   },
   {
    "duration": 35,
    "start_time": "2022-02-15T22:07:58.132Z"
   },
   {
    "duration": 62,
    "start_time": "2022-02-15T22:09:21.148Z"
   },
   {
    "duration": 65,
    "start_time": "2022-02-15T22:13:24.758Z"
   },
   {
    "duration": 11,
    "start_time": "2022-02-15T22:13:27.808Z"
   },
   {
    "duration": 58,
    "start_time": "2022-02-15T22:13:43.291Z"
   },
   {
    "duration": 87,
    "start_time": "2022-02-15T22:18:27.875Z"
   },
   {
    "duration": 88,
    "start_time": "2022-02-15T22:19:45.038Z"
   },
   {
    "duration": 11,
    "start_time": "2022-02-15T22:19:51.049Z"
   },
   {
    "duration": 67,
    "start_time": "2022-02-15T22:19:57.633Z"
   },
   {
    "duration": 11,
    "start_time": "2022-02-15T22:20:01.269Z"
   },
   {
    "duration": 63,
    "start_time": "2022-02-15T22:21:36.486Z"
   },
   {
    "duration": 61,
    "start_time": "2022-02-15T22:22:35.383Z"
   },
   {
    "duration": 87,
    "start_time": "2022-02-15T22:23:19.327Z"
   },
   {
    "duration": 15,
    "start_time": "2022-02-15T22:23:21.771Z"
   },
   {
    "duration": 66,
    "start_time": "2022-02-15T22:25:51.946Z"
   },
   {
    "duration": 65,
    "start_time": "2022-02-15T22:27:02.274Z"
   },
   {
    "duration": 3,
    "start_time": "2022-02-15T22:35:30.446Z"
   },
   {
    "duration": 230,
    "start_time": "2022-02-15T22:35:42.204Z"
   },
   {
    "duration": 77,
    "start_time": "2022-02-15T22:36:42.446Z"
   },
   {
    "duration": 343,
    "start_time": "2022-02-15T22:37:22.132Z"
   },
   {
    "duration": 5,
    "start_time": "2022-02-15T22:38:01.493Z"
   },
   {
    "duration": 175,
    "start_time": "2022-02-15T22:38:13.392Z"
   },
   {
    "duration": 192,
    "start_time": "2022-02-15T22:38:16.823Z"
   },
   {
    "duration": 17,
    "start_time": "2022-02-15T22:38:20.083Z"
   },
   {
    "duration": 251,
    "start_time": "2022-02-15T22:38:37.048Z"
   },
   {
    "duration": 4,
    "start_time": "2022-02-15T22:38:51.752Z"
   },
   {
    "duration": 397,
    "start_time": "2022-02-15T22:39:29.495Z"
   },
   {
    "duration": 393,
    "start_time": "2022-02-15T22:40:24.805Z"
   },
   {
    "duration": 408,
    "start_time": "2022-02-15T22:42:45.526Z"
   },
   {
    "duration": 397,
    "start_time": "2022-02-15T22:44:02.355Z"
   },
   {
    "duration": 60,
    "start_time": "2022-02-15T22:47:48.918Z"
   }
  ],
  "kernelspec": {
   "display_name": "Python 3",
   "language": "python",
   "name": "python3"
  },
  "language_info": {
   "codemirror_mode": {
    "name": "ipython",
    "version": 3
   },
   "file_extension": ".py",
   "mimetype": "text/x-python",
   "name": "python",
   "nbconvert_exporter": "python",
   "pygments_lexer": "ipython3",
   "version": "3.8.8"
  },
  "toc": {
   "base_numbering": 1,
   "nav_menu": {},
   "number_sections": true,
   "sideBar": true,
   "skip_h1_title": true,
   "title_cell": "Содержание",
   "title_sidebar": "Contents",
   "toc_cell": true,
   "toc_position": {
    "height": "calc(100% - 180px)",
    "left": "10px",
    "top": "150px",
    "width": "206.771px"
   },
   "toc_section_display": true,
   "toc_window_display": true
  }
 },
 "nbformat": 4,
 "nbformat_minor": 2
}
